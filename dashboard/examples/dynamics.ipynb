{
 "cells": [
  {
   "cell_type": "markdown",
   "id": "63dbfe22",
   "metadata": {},
   "source": [
    "# **Introduction**"
   ]
  },
  {
   "cell_type": "markdown",
   "id": "300c00de",
   "metadata": {},
   "source": [
    "In this notebook, we're going to calculate the dynamics of a quenched Heisenberg quantum spin lattice. To do that, we'll use several differrent methods:\n",
    "- Exact Diagonalization (ED) as a benchmark,\n",
    "- Gradient descent for optimization of the ground state,\n",
    "- Time-Dependent Variational Principle (TDVP) for obtaining variational dynamics.\n",
    "\n",
    "Let's start by including all the code we'll use in the notebook, and setting some basic properties.\n",
    "\n",
    "---"
   ]
  },
  {
   "cell_type": "code",
   "execution_count": null,
   "id": "f11aaa72",
   "metadata": {},
   "outputs": [],
   "source": [
    "# import everything you need\n",
    "from src import *\n",
    "import matplotlib.pyplot as plt\n",
    "\n",
    "# set plot properties\n",
    "# NOTE: to use this setting, you'll need to have TeX installed (remove or comment if you don't have it)\n",
    "plt.rcParams.update({'font.size': 25,\n",
    "                     'font.family': 'Candara',\n",
    "                     'text.usetex': True\n",
    "                     })\n",
    "\n",
    "# notebook code reloading\n",
    "# NOTE: if this casts an error, remove or comment it\n",
    "%load_ext autoreload\n",
    "%autoreload 2"
   ]
  },
  {
   "cell_type": "markdown",
   "id": "18ee5bf3",
   "metadata": {},
   "source": [
    "Now, let's set up some basic properties of the physical system and the (hyper)parameters of the code."
   ]
  },
  {
   "cell_type": "markdown",
   "id": "64b1d13c",
   "metadata": {},
   "source": [
    "# **Settings**"
   ]
  },
  {
   "cell_type": "markdown",
   "id": "3182a451",
   "metadata": {},
   "source": [
    "We start by building a lattice which will be used in all of our calculations. We need to set the dimensions `Lx` and `Ly`, and then use the `hilbert.lattice` class to create it.\n",
    "\n",
    "Next, we need hyperparameters for the ground state optimization. For our purposes, only the learning rate `eta` is enough.\n",
    "\n",
    "Next, we need to specify the parameters for dynamics calculations:\n",
    "- `steps`: number of integration steps,\n",
    "- `endtime`: final time of the calculations, in the unit $1/J_0$. Time step `dt` is calculated from `steps` and `endtime`,\n",
    "- `quench`: driving function that give the time dependence of the perturbation - we're keeping it a simple quench of $0.5$ (unit of $J_0$)\n",
    "\n",
    "Finally, for postprocessing, we need to specify for which lattice `links` are we calculating correlation functions. The lattice labeling is always flattened. This is always passed as a list."
   ]
  },
  {
   "cell_type": "code",
   "execution_count": null,
   "id": "e68a1884",
   "metadata": {},
   "outputs": [],
   "source": [
    "# for the lattice\n",
    "Lx, Ly = 2,2 # dimensions\n",
    "lat = hilbert.lattice(Lx, Ly) # the lattice class\n",
    "\n",
    "# for the network\n",
    "alpha = 1/4\n",
    "\n",
    "# for ground state optimization\n",
    "eta = 0.01\n",
    "\n",
    "# for dynamics\n",
    "steps = 2000\n",
    "endtime = 2\n",
    "quench = lambda t: 0.5 # a nice quench value\n",
    "\n",
    "# links to process\n",
    "# in the flattened labeling of a 2x2 lattice, the (0,2) link is along a quenched bond\n",
    "links = [(0,2)]"
   ]
  },
  {
   "cell_type": "markdown",
   "id": "cfde5df6",
   "metadata": {},
   "source": [
    "# <span style='color: lightblue'> **Exact diagonalization** </span>"
   ]
  },
  {
   "cell_type": "markdown",
   "id": "374ec5a2",
   "metadata": {},
   "source": [
    "Let's first make the entire benchmark calculation. We'll use the `exact.ED` class, to which we need to pass:\n",
    "- lattice `lat`,\n",
    "- integration `steps`,\n",
    "- final time `endtime`,\n",
    "- driving function `quench`.\n",
    "\n",
    "We run the calculation with the `run()` class method.\n"
   ]
  },
  {
   "cell_type": "code",
   "execution_count": null,
   "id": "5cf19073",
   "metadata": {},
   "outputs": [],
   "source": [
    "# declare the ED calculation\n",
    "ed = exact.ED(lat, steps, endtime, perturbator=quench)\n",
    "\n",
    "# run it\n",
    "ed.run()"
   ]
  },
  {
   "cell_type": "markdown",
   "id": "20494d6f",
   "metadata": {},
   "source": [
    "As a reality check, we can plot some results of this calculation. Energy and the correlation function along a quenched bond `(0,2)` are a good example.\n",
    "\n",
    "The `ED` class saves various values of the calculation. We'll use the `times` list to get the values of times. To get the observables, we access a class property `observables`, which is a dictionary keyed by strings denoting observables. For the energy, we access: \n",
    "```python\n",
    "ed.observables['energy']\n",
    "```\n",
    "All the correlations are written in a nested dictionary `[correlations]`, and keyed by their bond indices tuples. Therefore, to get the quenched bond correlation, we use:\n",
    "```python\n",
    "ed.observables['correlations'][(0,2)]\n",
    "```"
   ]
  },
  {
   "cell_type": "markdown",
   "id": "b740547f",
   "metadata": {},
   "source": [
    "## Energy"
   ]
  },
  {
   "cell_type": "code",
   "execution_count": null,
   "id": "8fc2124f",
   "metadata": {},
   "outputs": [],
   "source": [
    "# some plot settings\n",
    "plt.figure(figsize=(8,5))\n",
    "\n",
    "# plot\n",
    "# NOTE: the times array has one extra value (technical reasons), so we'll just exclude the first one from the list.\n",
    "plt.plot(ed.times[1:], ed.observables['energy'])\n",
    "\n",
    "# y limits\n",
    "plt.ylim([-2.4, -2.6])\n",
    "\n",
    "# labels\n",
    "plt.xlabel(\"time\")\n",
    "plt.ylabel(\"energy\")\n",
    "\n",
    "# aesthetics\n",
    "plt.gca().spines[['top', 'right']].set_visible(False)"
   ]
  },
  {
   "cell_type": "markdown",
   "id": "00971d7c",
   "metadata": {},
   "source": [
    "We can see that the energy is very nicely conserved at $-2.5$ value."
   ]
  },
  {
   "cell_type": "markdown",
   "id": "4d20687f",
   "metadata": {},
   "source": [
    "## Correlation"
   ]
  },
  {
   "cell_type": "code",
   "execution_count": null,
   "id": "117466da",
   "metadata": {},
   "outputs": [],
   "source": [
    "# some plot settings\n",
    "plt.figure(figsize=(8,5))\n",
    "\n",
    "# plot\n",
    "plt.plot(ed.times, ed.observables['correlations'][(0,2)])\n",
    "\n",
    "# labels\n",
    "plt.xlabel(\"time\")\n",
    "plt.ylabel(\"correlation function\")\n",
    "\n",
    "# aesthetics\n",
    "plt.gca().spines[['top', 'right']].set_visible(False)"
   ]
  },
  {
   "cell_type": "markdown",
   "id": "0382b6ca",
   "metadata": {},
   "source": [
    "The correlation function between two spins along a quenched bond oscillates in time. "
   ]
  },
  {
   "cell_type": "markdown",
   "id": "b0124b0a",
   "metadata": {},
   "source": [
    "# <span style='color: lightgreen'> **Ground state** </span>"
   ]
  },
  {
   "cell_type": "markdown",
   "id": "02f90150",
   "metadata": {},
   "source": [
    "Now let's use the Neural Quantum States (NQS) method with the Restricred Boltzmann Machine (RBM) architecture to calculate the variational representation of the ground state. This is done by optimizing the energy of the Heisenberg model by a gradient descent algorithm.\n",
    "\n",
    "We'll use the `groundstate.descent` class, to which we need to pass:\n",
    "- lattice `lat`,\n",
    "- neural network width `alpha`,\n",
    "- learning rate `eta`.\n",
    "\n",
    "We can start the optimization by using the `optimize` method, initialized with a random state. The optimization will stop by itself once it has reached proper convergence. But, to get a better visual data, we'll set the option `miniter = 1000` to declare a minimum of $1000$ optimization steps."
   ]
  },
  {
   "cell_type": "code",
   "execution_count": null,
   "id": "b18a8f2a",
   "metadata": {},
   "outputs": [],
   "source": [
    "# declare\n",
    "gs = groundstate.descent(lat, alpha, eta)\n",
    "\n",
    "# run\n",
    "gs.optimize(miniter=1000)"
   ]
  },
  {
   "cell_type": "markdown",
   "id": "71a79165",
   "metadata": {},
   "source": [
    "Let's plot the loss funciton of the gradient descent, which is energy. It's written in the `loss` list of the class."
   ]
  },
  {
   "cell_type": "code",
   "execution_count": null,
   "id": "17aad297",
   "metadata": {},
   "outputs": [],
   "source": [
    "# some plot settings\n",
    "plt.figure(figsize=(8,5))\n",
    "\n",
    "# plot\n",
    "plt.plot(gs.loss)\n",
    "\n",
    "# labels\n",
    "plt.xlabel(\"step\")\n",
    "plt.ylabel(\"loss\")\n",
    "\n",
    "# aesthetics\n",
    "plt.gca().spines[['top', 'right']].set_visible(False)"
   ]
  },
  {
   "cell_type": "markdown",
   "id": "c8900791",
   "metadata": {},
   "source": [
    "From the graph, it's clear that the energy converges quite quickly. If we want to see the parameters of this ground state, we can access them through the `states` list. Each state in the list is a `numpy` array of network parameters."
   ]
  },
  {
   "cell_type": "code",
   "execution_count": null,
   "id": "dd2cad0c",
   "metadata": {},
   "outputs": [],
   "source": [
    "gs.states[-1]"
   ]
  },
  {
   "cell_type": "markdown",
   "id": "da215ed6",
   "metadata": {},
   "source": [
    "# <span style='color: orange'> **Dynamics** </span>"
   ]
  },
  {
   "cell_type": "markdown",
   "id": "dc518a4e",
   "metadata": {},
   "source": [
    "Finally, let's see how to calculate the TDVP dynamics. We'll use the `dynamics.evolution` class.\n",
    "\n",
    "Some basic settings that the calss requires are:\n",
    "- lattice `lat`,\n",
    "- network width `alpha`,\n",
    "- initial state: we'll use the last obtained state from the ground state object `gs`,\n",
    "- integration `steps`,\n",
    "- final time `endtime`,\n",
    "- driving function, which is passed into the `perturbator` argument\n",
    "\n",
    "Additionally, we can specify the following integrational hyperparameters:\n",
    "- `integrator`: which scheme is used to obtain new network parameters in each step,\n",
    "- `formulation`: denotes a way to calculate the inverse of the $S$-matrix.\n",
    "\n",
    "Currently, the code includes the choice between two **integrators**: `'heun'` and `'implicit_midpoint'`, and three **formulations**: `'regularization'`, `'diagonalization'`, and `'geometric'`. Please note that they have to be passed as strings to their respective keyword arguments.\n",
    "Let's run the dynamis with the `'heun'` integrator in the `'regularization'` formulation, using a regulator of $\\varepsilon = 10^{-5}$.\n",
    "\n",
    "We can run the class by using the `.run` method."
   ]
  },
  {
   "cell_type": "code",
   "execution_count": null,
   "id": "e50f353b",
   "metadata": {},
   "outputs": [],
   "source": [
    "# declare the dynamics class\n",
    "dyn = dynamics.evolution(lat, alpha, # system settings\n",
    "                         gs.states[-1].copy(), steps, endtime, # dynamics settings\n",
    "                         perturbator = quench, # driving (use the same one as with ED)\n",
    "                         integrator = 'heun', # this is a default option\n",
    "                         formulation='regularization', regulator = 1e-5)\n",
    "\n",
    "# run it\n",
    "dyn.run()"
   ]
  },
  {
   "cell_type": "markdown",
   "id": "c372db72",
   "metadata": {},
   "source": [
    "When the simulation is done, let's see some results."
   ]
  },
  {
   "cell_type": "markdown",
   "id": "fe340f19",
   "metadata": {},
   "source": [
    "## Energy"
   ]
  },
  {
   "cell_type": "markdown",
   "id": "203b7701",
   "metadata": {},
   "source": [
    "In the `evolution` class, time and energy are stored in their own lists, `times` and `energies`, respectively. We can ignore the first values of both, as they are just the ground state.\n",
    "\n",
    "We can compare the energy with the results from the benchmark ED run."
   ]
  },
  {
   "cell_type": "code",
   "execution_count": null,
   "id": "d799f7cc",
   "metadata": {},
   "outputs": [],
   "source": [
    "# some plot settings\n",
    "plt.figure(figsize=(8,5))\n",
    "\n",
    "# plot benchmark ED\n",
    "plt.plot(ed.times[1:], ed.observables['energy'], \n",
    "         lw = 7, color = 'gray', alpha = 0.75, ls = '--', # line settings\n",
    "         label = 'ED')\n",
    "\n",
    "# plot NQS run\n",
    "plt.plot(dyn.times[1:], dyn.energies[1:], lw = 3, \n",
    "         label = 'NQS')\n",
    "\n",
    "# y limits\n",
    "plt.ylim([-2.4, -2.6])\n",
    "\n",
    "# labels\n",
    "plt.xlabel(\"time\")\n",
    "plt.ylabel(\"energy\")\n",
    "\n",
    "# aesthetics\n",
    "plt.legend(frameon = False)\n",
    "plt.gca().spines[['top', 'right']].set_visible(False)"
   ]
  },
  {
   "cell_type": "markdown",
   "id": "b14ac246",
   "metadata": {},
   "source": [
    "The energy is also nicely conserved, as we expected."
   ]
  },
  {
   "cell_type": "markdown",
   "id": "1d8067c5",
   "metadata": {},
   "source": [
    "## Correlation"
   ]
  },
  {
   "cell_type": "markdown",
   "id": "653af08b",
   "metadata": {},
   "source": [
    "In the `evolution` class, all correlations are stored in the `correlations` dictionary, keyed by the bond-index-pair tuples. However, we must first calculate the correlation time series. We use the `process_links` method, which requires a list of links to process. We aready defined this list of `links` that contains only the `(0,2)` bond."
   ]
  },
  {
   "cell_type": "code",
   "execution_count": null,
   "id": "8c7fbfa8",
   "metadata": {},
   "outputs": [],
   "source": [
    "# process links\n",
    "dyn.process_links(links)"
   ]
  },
  {
   "cell_type": "code",
   "execution_count": null,
   "id": "bb73d9fc",
   "metadata": {},
   "outputs": [],
   "source": [
    "# some plot settings\n",
    "plt.figure(figsize=(9,5))\n",
    "\n",
    "# plot benchmark ED\n",
    "plt.plot(ed.times, ed.observables['correlations'][(0,2)], \n",
    "         lw = 7, color = 'gray', alpha = 0.75, ls = '--', # line settings\n",
    "         label = 'ED')\n",
    "\n",
    "# plot NQS run\n",
    "plt.plot(dyn.times, dyn.correlations[(0,2)], lw = 3, \n",
    "         label = 'NQS')\n",
    "\n",
    "# labels\n",
    "plt.xlabel(\"time\")\n",
    "plt.ylabel(\"correlations\")\n",
    "\n",
    "# aesthetics\n",
    "plt.legend(frameon = False,  bbox_to_anchor=(1, 0.5), loc='center left')\n",
    "plt.gca().spines[['top', 'right']].set_visible(False)"
   ]
  },
  {
   "cell_type": "markdown",
   "id": "d5d1ce6e",
   "metadata": {},
   "source": [
    "The correlation oscillations of the NQS simulation follow the exact solutions quite nicely! "
   ]
  },
  {
   "cell_type": "markdown",
   "id": "bb97df68",
   "metadata": {},
   "source": [
    "## Spectrum"
   ]
  },
  {
   "cell_type": "markdown",
   "id": "ad7277c0",
   "metadata": {},
   "source": [
    "Another important property of the NQS calculations are the eigenvalues of the $S$-matrix. We can access them from the class property `spectrum`. Again, we need to analyse the spectrum with the `process_spectrum` method."
   ]
  },
  {
   "cell_type": "code",
   "execution_count": null,
   "id": "90012837",
   "metadata": {},
   "outputs": [],
   "source": [
    "# process it\n",
    "dyn.process_spectrum()"
   ]
  },
  {
   "cell_type": "code",
   "execution_count": null,
   "id": "c63f1dd1",
   "metadata": {},
   "outputs": [],
   "source": [
    "# plot it\n",
    "\n",
    "# plot settings\n",
    "fig, axes = plt.subplots(5, 1, figsize = (8, 10), sharex = True)\n",
    "plt.subplots_adjust(hspace=0.3)\n",
    "\n",
    "# plot it\n",
    "for i in range(len(dyn.spectrum)):\n",
    "    axes[i].plot(dyn.times, dyn.spectrum[i])\n",
    "\n",
    "# labels and titles\n",
    "axes[0].set_title(\"S-matrix eigenvalues\", pad = 20)\n",
    "axes[-1].set_xlabel(\"time\")\n",
    "\n",
    "# aesthetics: graph spines\n",
    "for i in range(len(axes)-1):\n",
    "    axes[i].spines[['bottom', 'right', 'top']].set_visible(False)\n",
    "    axes[i].tick_params(axis='x', length=0)\n",
    "axes[-1].spines[['right', 'top']].set_visible(False)\n",
    "\n",
    "# aesthetics: grids\n",
    "for ax in axes:\n",
    "    ax.grid(True, which='both', linestyle='--', color='gray', alpha=0.7)"
   ]
  },
  {
   "cell_type": "markdown",
   "id": "38cc4707",
   "metadata": {},
   "source": [
    "It's quite clear that two of the eigenvalues are zero in machine precision, while other have nice, well-behaved values."
   ]
  }
 ],
 "metadata": {
  "kernelspec": {
   "display_name": ".venv",
   "language": "python",
   "name": "python3"
  },
  "language_info": {
   "codemirror_mode": {
    "name": "ipython",
    "version": 3
   },
   "file_extension": ".py",
   "mimetype": "text/x-python",
   "name": "python",
   "nbconvert_exporter": "python",
   "pygments_lexer": "ipython3",
   "version": "3.10.11"
  }
 },
 "nbformat": 4,
 "nbformat_minor": 5
}
