{
 "cells": [
  {
   "cell_type": "markdown",
   "id": "f00f3bb2",
   "metadata": {},
   "source": [
    "# **Introduction**"
   ]
  },
  {
   "cell_type": "markdown",
   "id": "cdf7bda5",
   "metadata": {},
   "source": [
    "Here, we're going to fit the ED time series to the RBM representation using infidelity optimization. Since we've explained in more detail how the basic calculations are set up and performed in the [dynamics](dynamics.ipynb) notebook, those details will be skipped here.\n",
    "\n",
    "Again, we start by including everything.\n",
    "\n",
    "---"
   ]
  },
  {
   "cell_type": "code",
   "execution_count": null,
   "id": "4d4a4f16",
   "metadata": {},
   "outputs": [],
   "source": [
    "# import everything you need\n",
    "from src import *\n",
    "import numpy as np\n",
    "import matplotlib.pyplot as plt\n",
    "\n",
    "# set plot properties\n",
    "# NOTE: to use this setting, you'll need to have TeX installed (remove or comment if you don't have it)\n",
    "plt.rcParams.update({'font.size': 25,\n",
    "                     'font.family': 'Candara',\n",
    "                     'text.usetex': True\n",
    "                     })\n",
    "\n",
    "# notebook code reloading\n",
    "# NOTE: if this casts an error, remove or comment it\n",
    "%load_ext autoreload\n",
    "%autoreload 2"
   ]
  },
  {
   "cell_type": "markdown",
   "id": "4988b12b",
   "metadata": {},
   "source": [
    "# **Settings**"
   ]
  },
  {
   "cell_type": "code",
   "execution_count": null,
   "id": "27064a0b",
   "metadata": {},
   "outputs": [],
   "source": [
    "# for the lattice\n",
    "Lx, Ly = 2,2 # dimensions\n",
    "lat = hilbert.lattice(Lx, Ly) # the lattice class\n",
    "\n",
    "# for the network\n",
    "alpha = 1/4\n",
    "\n",
    "# for ground state optimization\n",
    "eta = 0.01\n",
    "\n",
    "# for dynamics\n",
    "steps = 2000\n",
    "endtime = 2\n",
    "quench = lambda t: 0.5 # a nice quench value\n",
    "\n",
    "# links to process\n",
    "# in the flattened labeling of a 2x2 lattice, the (0,2) link is along a quenched bond\n",
    "links = [(0,2)]"
   ]
  },
  {
   "cell_type": "markdown",
   "id": "4e602727",
   "metadata": {},
   "source": [
    "# <span style='color: lightblue'> **Exact diagonalization and ground state** </span>"
   ]
  },
  {
   "cell_type": "markdown",
   "id": "b2036833",
   "metadata": {},
   "source": [
    "We need to obtain the ED time series, as we will fit RBM wave functions $\\left|\\Psi_{RBM}\\right>$ to exact wave functions $\\left|\\Psi_{ED}\\right>$. The ground state is there just for the initial state, and is in principle not needed, but it gives a nice way to obtain continuous lines that more resemble the NQS results.\n",
    "\n",
    "We'll skip the plotting in this part."
   ]
  },
  {
   "cell_type": "markdown",
   "id": "4dbff612",
   "metadata": {},
   "source": [
    "## ED"
   ]
  },
  {
   "cell_type": "code",
   "execution_count": null,
   "id": "793c4e86",
   "metadata": {},
   "outputs": [],
   "source": [
    "# declare the ED calculation\n",
    "ed = exact.ED(lat, steps, endtime, perturbator=quench)\n",
    "\n",
    "# run it\n",
    "ed.run()"
   ]
  },
  {
   "cell_type": "markdown",
   "id": "e85749fa",
   "metadata": {},
   "source": [
    "## Ground state"
   ]
  },
  {
   "cell_type": "code",
   "execution_count": null,
   "id": "819cc88d",
   "metadata": {},
   "outputs": [],
   "source": [
    "# declare\n",
    "gs = groundstate.descent(lat, alpha, eta)\n",
    "\n",
    "# run\n",
    "gs.optimize(miniter=1000)"
   ]
  },
  {
   "cell_type": "markdown",
   "id": "e399e100",
   "metadata": {},
   "source": [
    "# <span style='color: pink'> **Infidelity optimization** </span>"
   ]
  },
  {
   "cell_type": "markdown",
   "id": "fc734c57",
   "metadata": {},
   "source": [
    "To fit the RBM ansatz to the exact wave function at each time, we're again using the `dynamics.evolution` class. We have to declare the class object with the system and network properties:\n",
    "- lattice `lat`,\n",
    "- network width `alpha`,\n",
    "- initial state: we'll use the last obtained state from the ground state object `gs`,\n",
    "- final time `endtime`,\n",
    "- integration `steps`.\n",
    "\n",
    "The last two should be the same as in the `exact.ED` object we're using for the optimization.\n",
    "\n",
    "We will only declare the `evolution` object without runing it (this would initiate the dynamics calculation). Instead, we'll use the `fit_dynamics` method, which requires:\n",
    "- `states`: a list of states to optimize to; we'll send the list of wave function from ED `ed.states`,\n",
    "- `links` keyword argument: list of links to calculate correlation functions after the optimization.\n",
    "\n",
    "The `fit_dynamics` method returns final optimized infidelities and convergence steps, for each state of the `states` list, so we'll write that into some variables. Otherwise, all the other properties (like observables) are accessed through the `evolution` class.\n",
    "\n",
    "This optimization might take $10-20$ minutes. The algorithm is working hard, performing a gradient descent for every step of the dynamics. Good time to have a coffee."
   ]
  },
  {
   "cell_type": "code",
   "execution_count": null,
   "id": "b5044bc8",
   "metadata": {},
   "outputs": [],
   "source": [
    "# declare the class\n",
    "dyn_fit = dynamics.evolution(lat, alpha, gs.states[-1].copy(), steps, endtime)\n",
    "\n",
    "# fit to ED\n",
    "losses, conv_steps = dyn_fit.fit_dynamics(ed.states, links = links,\n",
    "                    start_from_last = True # this option gives us nice, continuous lines in the eigenvalues\n",
    "                    )"
   ]
  },
  {
   "cell_type": "markdown",
   "id": "c0f6e5cf",
   "metadata": {},
   "source": [
    "## Optimization quaility"
   ]
  },
  {
   "cell_type": "markdown",
   "id": "b6a62304",
   "metadata": {},
   "source": [
    "We can see how well the optimization went at each time step. This information is written in the `losses` array."
   ]
  },
  {
   "cell_type": "code",
   "execution_count": null,
   "id": "a81c033f",
   "metadata": {},
   "outputs": [],
   "source": [
    "# some plot settings\n",
    "plt.figure(figsize=(8,5))\n",
    "\n",
    "# plot NQS run\n",
    "plt.plot(dyn_fit.times, losses, \n",
    "         lw = 3, color = 'red', # line options\n",
    "         )\n",
    "\n",
    "# labels\n",
    "plt.xlabel(\"time\")\n",
    "plt.ylabel(\"final infidelity\")\n",
    "\n",
    "# aesthetics\n",
    "plt.gca().spines[['top', 'right']].set_visible(False)"
   ]
  },
  {
   "cell_type": "markdown",
   "id": "25fc1a0a",
   "metadata": {},
   "source": [
    "According to this data, the optimization has converged very nicely at each time."
   ]
  },
  {
   "cell_type": "markdown",
   "id": "fbccb4a0",
   "metadata": {},
   "source": [
    "## Correlation"
   ]
  },
  {
   "cell_type": "markdown",
   "id": "c5ab3412",
   "metadata": {},
   "source": [
    "Let's make sure that the correlation dynamics is the same as ED.\n",
    "\n",
    "In infidelity fits, the observables are already processed automatically."
   ]
  },
  {
   "cell_type": "code",
   "execution_count": null,
   "id": "8b52a1ba",
   "metadata": {},
   "outputs": [],
   "source": [
    "# some plot settings\n",
    "plt.figure(figsize=(9,5))\n",
    "\n",
    "# plot benchmark ED\n",
    "plt.plot(ed.times, ed.observables['correlations'][(0,2)], \n",
    "         lw = 7, color = 'gray', alpha = 0.75, ls = '--', # line settings\n",
    "         label = 'ED')\n",
    "\n",
    "# plot NQS run\n",
    "plt.plot(dyn_fit.times, dyn_fit.correlations[(0,2)], \n",
    "         lw = 3, color = 'red',\n",
    "         label = 'fit')\n",
    "\n",
    "# labels\n",
    "plt.xlabel(\"time\")\n",
    "plt.ylabel(\"correlations\")\n",
    "\n",
    "# aesthetics\n",
    "plt.legend(frameon = False,  bbox_to_anchor=(1, 0.5), loc='center left')\n",
    "plt.gca().spines[['top', 'right']].set_visible(False)"
   ]
  },
  {
   "cell_type": "markdown",
   "id": "7ab83373",
   "metadata": {},
   "source": [
    "Correct correlation dynamics are recovered at each time."
   ]
  },
  {
   "cell_type": "markdown",
   "id": "65018fb4",
   "metadata": {},
   "source": [
    "## Spectrum"
   ]
  },
  {
   "cell_type": "markdown",
   "id": "ad405018",
   "metadata": {},
   "source": [
    "We can now also see how the eigenvalues of the $S$-matrix look for the infidlity-optimized time seris. These could be considered a good benchmark for actual NQS runs. So, before comparing, let's do a quick NQS run."
   ]
  },
  {
   "cell_type": "code",
   "execution_count": null,
   "id": "754a9627",
   "metadata": {},
   "outputs": [],
   "source": [
    "# declare the dynamics class\n",
    "dyn = dynamics.evolution(lat, alpha, # system settings\n",
    "                         gs.states[-1].copy(), steps, endtime, # dynamics settings\n",
    "                         perturbator = quench, # driving (use the same one as with ED)\n",
    "                         formulation='regularization', regulator = 1e-5)\n",
    "\n",
    "# run it\n",
    "dyn.run()\n",
    "\n",
    "# process it\n",
    "dyn.process_spectrum()"
   ]
  },
  {
   "cell_type": "code",
   "execution_count": null,
   "id": "7bd15348",
   "metadata": {},
   "outputs": [],
   "source": [
    "# plot it\n",
    "\n",
    "# plot settings\n",
    "fig, axes = plt.subplots(5, 1, figsize = (10, 10), sharex = True)\n",
    "plt.subplots_adjust(hspace=0.3)\n",
    "\n",
    "# plot it\n",
    "for i in range(len(dyn_fit.spectrum)):\n",
    "    axes[i].plot(dyn_fit.times, dyn_fit.spectrum[i], label = 'fit',\n",
    "                 color = 'red', alpha = 0.65, lw = 6, ls = '--') # line options\n",
    "    axes[i].plot(dyn.times, dyn.spectrum[i], label = 'NQS', lw = 3)\n",
    "\n",
    "# labels and titles\n",
    "axes[0].set_title(\"S-matrix eigenvalues\", pad = 20)\n",
    "axes[-1].set_xlabel(\"time\")\n",
    "\n",
    "# legend\n",
    "axes[0].legend(frameon = False,  bbox_to_anchor=(1, 0.5), loc='center left')\n",
    "\n",
    "# aesthetics: graph spines\n",
    "for i in range(len(axes)-1):\n",
    "    axes[i].spines[['bottom', 'right', 'top']].set_visible(False)\n",
    "    axes[i].tick_params(axis='x', length=0)\n",
    "axes[-1].spines[['right', 'top']].set_visible(False)\n",
    "\n",
    "# aesthetics: grids\n",
    "for ax in axes:\n",
    "    ax.grid(True, which='both', linestyle='--', color='gray', alpha=0.7)"
   ]
  },
  {
   "cell_type": "markdown",
   "id": "987d9dc8",
   "metadata": {},
   "source": [
    "The eigenvalues are an excellent match, indicating that the fit is a good variational benchmark for the NQS dynamics with TDVP."
   ]
  }
 ],
 "metadata": {
  "kernelspec": {
   "display_name": ".venv",
   "language": "python",
   "name": "python3"
  },
  "language_info": {
   "codemirror_mode": {
    "name": "ipython",
    "version": 3
   },
   "file_extension": ".py",
   "mimetype": "text/x-python",
   "name": "python",
   "nbconvert_exporter": "python",
   "pygments_lexer": "ipython3",
   "version": "3.10.11"
  }
 },
 "nbformat": 4,
 "nbformat_minor": 5
}
