{
 "cells": [
  {
   "cell_type": "code",
   "execution_count": null,
   "id": "0eb2d94b",
   "metadata": {},
   "outputs": [],
   "source": [
    "# import everything you need\n",
    "from src import *\n",
    "import numpy as np\n",
    "import matplotlib.pyplot as plt\n",
    "\n",
    "# set plot properties\n",
    "plt.rcParams.update({'font.size': 25,\n",
    "                     'font.family': 'Candara',\n",
    "                     'text.usetex': True\n",
    "                     })\n",
    "\n",
    "# notebook code reloading\n",
    "%load_ext autoreload\n",
    "%autoreload 2"
   ]
  },
  {
   "cell_type": "markdown",
   "id": "6734e9b6",
   "metadata": {},
   "source": [
    "# Settings"
   ]
  },
  {
   "cell_type": "code",
   "execution_count": null,
   "id": "4a5cf2f0",
   "metadata": {},
   "outputs": [],
   "source": [
    "# for the lattice\n",
    "Lx, Ly = 2,2\n",
    "lat = hilbert.lattice(Lx, Ly)\n",
    "\n",
    "# for the network\n",
    "alpha = 1/4\n",
    "\n",
    "# for ground state optimization\n",
    "eta = 0.01\n",
    "\n",
    "# for dynamics\n",
    "steps = 1500\n",
    "endtime = 1.5\n",
    "breakdown = lambda t: -2. # an unstable quench\n",
    "\n",
    "# links to process\n",
    "links = [(0,2)]"
   ]
  },
  {
   "cell_type": "markdown",
   "id": "b6b23216",
   "metadata": {},
   "source": [
    "# **Ground state**"
   ]
  },
  {
   "cell_type": "markdown",
   "id": "ac081b77",
   "metadata": {},
   "source": [
    "This is how you can get the ground state."
   ]
  },
  {
   "cell_type": "code",
   "execution_count": null,
   "id": "04ac1d4f",
   "metadata": {},
   "outputs": [],
   "source": [
    "# declare\n",
    "gs = groundstate.descent(lat, alpha, eta)\n",
    "\n",
    "# run\n",
    "gs.optimize(miniter=1000)"
   ]
  },
  {
   "cell_type": "markdown",
   "id": "18f15436",
   "metadata": {},
   "source": [
    "Let's use my ground state instead."
   ]
  },
  {
   "cell_type": "code",
   "execution_count": null,
   "id": "6fd5ba38",
   "metadata": {},
   "outputs": [],
   "source": [
    "# load it from the provided file\n",
    "initial_state = np.array(np.loadtxt('../initial_state.txt'), dtype = complex)\n",
    "\n",
    "# NOTE: if you want to use the ground state from the descent class instead, uncomment the following line:\n",
    "#initial_state = gs.states[-1].copy()\n",
    "initial_state"
   ]
  },
  {
   "cell_type": "markdown",
   "id": "ea7cabbf",
   "metadata": {},
   "source": [
    "# **Line tracking algorithm**"
   ]
  },
  {
   "cell_type": "markdown",
   "id": "d512670d",
   "metadata": {},
   "source": [
    "Later in the analysis, we want to create continuous lines of eigenvalues, which come out of the code as sorted by magnitude. This is the function that we can use to create connected lines from the provided matrix specta."
   ]
  },
  {
   "cell_type": "code",
   "execution_count": null,
   "id": "9b8f6767",
   "metadata": {},
   "outputs": [],
   "source": [
    "# written by ChatGPT\n",
    "def track_eigenvalues_with_prediction(sorted_eigvals):\n",
    "    n_eig, n_time = sorted_eigvals.shape\n",
    "    tracked = np.zeros_like(sorted_eigvals)\n",
    "    tracked[:, 0] = sorted_eigvals[:, 0]\n",
    "    tracked[:, 1] = sorted_eigvals[:, 1]\n",
    "\n",
    "    for i in range(2, n_time):\n",
    "        # Predict next position using simple linear extrapolation\n",
    "        prediction = 2 * tracked[:, i - 1] - tracked[:, i - 2]\n",
    "        curr_vals = sorted_eigvals[:, i].copy()\n",
    "        assigned = np.zeros(n_eig, dtype=bool)\n",
    "\n",
    "        for j in range(n_eig):\n",
    "            distances = np.abs(curr_vals - prediction[j])\n",
    "            distances[assigned] = np.inf\n",
    "            min_idx = np.argmin(distances)\n",
    "            tracked[j, i] = curr_vals[min_idx]\n",
    "            assigned[min_idx] = True\n",
    "\n",
    "    return tracked"
   ]
  },
  {
   "cell_type": "markdown",
   "id": "473a8329",
   "metadata": {},
   "source": [
    "# <span style='color: lightblue'> **Calculations** </span>"
   ]
  },
  {
   "cell_type": "markdown",
   "id": "9efa264e",
   "metadata": {},
   "source": [
    "We're calculating NQS dynamics with the explicit integrator in regularizaiton formulation, and the implicit integrator. We're also fitting the entire ED dynamics to RBM at each time using infidelity. We're comparing the spectrum of the $S$-marix for all of these cases. Everything is done for the breakdown case of $\\Delta = -2$."
   ]
  },
  {
   "cell_type": "markdown",
   "id": "c386e470",
   "metadata": {},
   "source": [
    "## NQS"
   ]
  },
  {
   "cell_type": "code",
   "execution_count": null,
   "id": "70cb65c7",
   "metadata": {},
   "outputs": [],
   "source": [
    "# declare dynamics\n",
    "dyn_reg = dynamics.evolution(lat, alpha, initial_state.copy(), \n",
    "                             steps, endtime, perturbator=breakdown,\n",
    "                             formulation='regularization')\n",
    "\n",
    "dyn_imp = dynamics.evolution(lat, alpha, initial_state.copy(), \n",
    "                             int(steps/2), endtime, perturbator=breakdown,\n",
    "                             formulation='geometric',\n",
    "                             integrator='implicit_midpoint')"
   ]
  },
  {
   "cell_type": "code",
   "execution_count": null,
   "id": "b613720f",
   "metadata": {},
   "outputs": [],
   "source": [
    "# run them\n",
    "dyn_reg.run()\n",
    "dyn_imp.run()\n",
    "\n",
    "# process correlations\n",
    "dyn_reg.process_links(links)\n",
    "dyn_imp.process_links(links)\n",
    "\n",
    "# process spectra\n",
    "dyn_reg.process_spectrum()\n",
    "dyn_imp.process_spectrum()"
   ]
  },
  {
   "cell_type": "markdown",
   "id": "559a6648",
   "metadata": {},
   "source": [
    "## Infidelity fit"
   ]
  },
  {
   "cell_type": "code",
   "execution_count": null,
   "id": "3228122e",
   "metadata": {},
   "outputs": [],
   "source": [
    "# we need ED first\n",
    "ed_m2 = exact.ED(lat, steps, endtime, perturbator=breakdown)\n",
    "ed_m2.run()"
   ]
  },
  {
   "cell_type": "markdown",
   "id": "b61a646e",
   "metadata": {},
   "source": [
    "This might run a bit slow, depending on your machine."
   ]
  },
  {
   "cell_type": "code",
   "execution_count": null,
   "id": "3198fb7f",
   "metadata": {},
   "outputs": [],
   "source": [
    "# then we need to fit RBM to it\n",
    "\n",
    "# declare the dynamics class (but we won't run it)\n",
    "dyn_fit = dynamics.evolution(lat, alpha, initial_state.copy(), steps, endtime)\n",
    "\n",
    "# fit to ED\n",
    "losses, conv_steps = dyn_fit.fit_dynamics(ed_m2.states, links = links,\n",
    "                    start_from_last = True, # this option gives us nice, continuous lines\n",
    "                    criterion=1e-8 # set the precision of the fit\n",
    "                    ) "
   ]
  },
  {
   "cell_type": "markdown",
   "id": "09fa2e65",
   "metadata": {},
   "source": [
    "# <span style='color: lightblue'> **Smallest eigenvalues** </span>  time step dependence"
   ]
  },
  {
   "cell_type": "markdown",
   "id": "cdb03c52",
   "metadata": {},
   "source": [
    "We're calculating the smallest nonzero eigenvalue for each run, precisely up until very low time steps."
   ]
  },
  {
   "cell_type": "markdown",
   "id": "615e6cb3",
   "metadata": {},
   "source": [
    "## Explicit"
   ]
  },
  {
   "cell_type": "code",
   "execution_count": null,
   "id": "5df4f880",
   "metadata": {},
   "outputs": [],
   "source": [
    "# initialize some times and initial parameters\n",
    "breakdown_index = np.argmin(dyn_reg.spectrum[2:])\n",
    "print(\"cusp depth = \", np.min(dyn_reg.spectrum[2:]), \" at index \", breakdown_index)\n",
    "breakdown_time = dyn_reg.times[breakdown_index]\n",
    "starting_index = breakdown_index-25 if (breakdown_index-25)>=0 else 0 # check that it doesn't spill over into negative times \n",
    "ti = dyn_reg.times[starting_index]\n",
    "tf = 2*breakdown_time - ti if (2*breakdown_time - ti) > ti else dyn_reg.times[-1] # same for ending times\n",
    "winit_exp = dyn_reg.states[starting_index].copy()\n",
    "\n",
    "# runs list\n",
    "regulated_dt = []"
   ]
  },
  {
   "cell_type": "code",
   "execution_count": null,
   "id": "6b5bcd5f",
   "metadata": {},
   "outputs": [],
   "source": [
    "# settings for the runs\n",
    "iterations = 20\n",
    "steps_to_run = 100\n",
    "\n",
    "# runs\n",
    "for _ in range(iterations):\n",
    "\n",
    "    # declare\n",
    "    nqs_reg = dynamics.evolution(lat, alpha, winit_exp, steps_to_run, tf, \n",
    "        perturbator = breakdown, start=ti)\n",
    "    \n",
    "    # flags\n",
    "    print(\"\\nRunning dt = \", nqs_reg.dt)\n",
    "    print(\"initial time = \", ti, \", final time = \", tf, \"\\n\")\n",
    "\n",
    "    # run and process\n",
    "    nqs_reg.run()\n",
    "    nqs_reg.process_links(links)\n",
    "    nqs_reg.process_spectrum()\n",
    "    \n",
    "    # append\n",
    "    regulated_dt.append(nqs_reg)\n",
    "\n",
    "    # update for the next loop iteration\n",
    "    run_spectral_lines = track_eigenvalues_with_prediction(np.array(nqs_reg.spectrum))\n",
    "    breakdown_index = np.argmin(nqs_reg.spectrum[2:])\n",
    "    print(\"cusp depth = \", np.min(nqs_reg.spectrum[2:]), \" at index \", breakdown_index)\n",
    "    breakdown_time = nqs_reg.times[breakdown_index]\n",
    "    starting_index = breakdown_index-25 if (breakdown_index-25)>=0 else 0 # check that it doesn't spill over into negative times (it fucks up the indexing)\n",
    "    ti = nqs_reg.times[starting_index]\n",
    "    tf = 2*breakdown_time - ti if (2*breakdown_time - ti) > ti else nqs_reg.times[-1] # same for ending times\n",
    "    winit_exp = nqs_reg.states[starting_index].copy()\n",
    "\n",
    "    print(\"----------------------------------\")"
   ]
  },
  {
   "cell_type": "code",
   "execution_count": null,
   "id": "c9f326aa",
   "metadata": {},
   "outputs": [],
   "source": [
    "# get relevant data\n",
    "reg_dt_spectra = [\n",
    "    track_eigenvalues_with_prediction(np.array(s.spectrum)) for s in regulated_dt]\n",
    "reg_spectral_minima = [np.min(sp[2:]) for sp in reg_dt_spectra]\n",
    "reg_timesteps = [idt.dt for idt in regulated_dt]"
   ]
  },
  {
   "cell_type": "markdown",
   "id": "0db3ab11",
   "metadata": {},
   "source": [
    "## Implicit"
   ]
  },
  {
   "cell_type": "code",
   "execution_count": null,
   "id": "761a063f",
   "metadata": {},
   "outputs": [],
   "source": [
    "# initialize some times and initial parameters\n",
    "breakdown_time = np.pi/(2*np.sqrt(48)) # believe it or not, this is the actual breakdown time\n",
    "ti = ed_m2.times[201] # initial time\n",
    "tf = 2*breakdown_time - ti\n",
    "winit_imp = dyn_imp.states[101].copy()\n",
    "\n",
    "# runs list\n",
    "implicit_dt = []"
   ]
  },
  {
   "cell_type": "code",
   "execution_count": null,
   "id": "b4b9a765",
   "metadata": {},
   "outputs": [],
   "source": [
    "iterations = 20\n",
    "steps_to_run = 100\n",
    "starting_index = 40\n",
    "\n",
    "for _ in range(iterations):\n",
    "    # declare\n",
    "    nqsrun_imp = dynamics.evolution(lat, alpha, winit_imp, steps_to_run, tf, \n",
    "        perturbator = breakdown, start=ti,\n",
    "        formulation='geometric', integrator='implicit_midpoint')\n",
    "    \n",
    "    print(\"\\nRunning dt = \", nqsrun_imp.dt)\n",
    "    \n",
    "    # run and process\n",
    "    nqsrun_imp.run()\n",
    "    nqsrun_imp.process_links(links)\n",
    "    nqsrun_imp.process_spectrum()\n",
    "    \n",
    "    # append\n",
    "    implicit_dt.append(nqsrun_imp)\n",
    "\n",
    "    # update for the next loop iteration\n",
    "    run_spectral_lines = track_eigenvalues_with_prediction(np.array(nqsrun_imp.spectrum))\n",
    "    breakdown_index = np.argmin(run_spectral_lines[2])\n",
    "    breakdown_time = nqsrun_imp.times[breakdown_index]\n",
    "    starting_index = breakdown_index-25 if (breakdown_index-25)>=0 else 0\n",
    "    ti = nqsrun_imp.times[starting_index]\n",
    "    tf = 2*breakdown_time - ti if (2*breakdown_time - ti) > ti else nqsrun_imp.times[-1]\n",
    "    winit_imp = nqsrun_imp.states[starting_index].copy()\n",
    "\n",
    "    print(\"----------------------------------\")"
   ]
  },
  {
   "cell_type": "code",
   "execution_count": null,
   "id": "69f73c2c",
   "metadata": {},
   "outputs": [],
   "source": [
    "# get the relevant data\n",
    "implicit_dt_spectra = [\n",
    "    track_eigenvalues_with_prediction(np.array(s.spectrum)) for s in implicit_dt]\n",
    "imp_spectral_minima = [np.min(sp[2:]) for sp in implicit_dt_spectra]\n",
    "imp_timesteps = [idt.dt for idt in implicit_dt]"
   ]
  },
  {
   "cell_type": "markdown",
   "id": "3bb2f2b7",
   "metadata": {},
   "source": [
    "## Infidelity fits"
   ]
  },
  {
   "cell_type": "code",
   "execution_count": null,
   "id": "808f8203",
   "metadata": {},
   "outputs": [],
   "source": [
    "# initialize some times and initial parameters\n",
    "breakdown_time = np.pi/(2*np.sqrt(48)) # believe it or not, this is the actual breakdown time\n",
    "ti = ed_m2.times[201] # initial time\n",
    "tf = 2*breakdown_time - ti\n",
    "winit_fit = dyn_fit.states[201].copy()\n",
    "initial_psi = ed_m2.states[201].copy()\n",
    "\n",
    "# runs list\n",
    "fits_dt = []"
   ]
  },
  {
   "cell_type": "markdown",
   "id": "d2bc3d33",
   "metadata": {},
   "source": [
    "This will probably run slow too."
   ]
  },
  {
   "cell_type": "code",
   "execution_count": null,
   "id": "88d68f8a",
   "metadata": {},
   "outputs": [],
   "source": [
    "iterations = 20\n",
    "steps_to_run = 100\n",
    "starting_index = 40 # after run, index difference\n",
    "\n",
    "for _ in range(iterations):\n",
    "\n",
    "    # declare\n",
    "    nqs_fit = dynamics.evolution(lat, alpha, winit_fit, steps_to_run, tf, \n",
    "        perturbator = breakdown, start=ti)\n",
    "    \n",
    "    # flags\n",
    "    print(\"\\nRunning dt = \", nqs_fit.dt)\n",
    "    print(\"initial time = \", ti, \", final time = \", tf, \"\\n\")\n",
    "\n",
    "    # run ED\n",
    "    ed_run = exact.ED(lat, steps_to_run, tf,\n",
    "                      perturbator=breakdown, start = ti, initial=initial_psi)\n",
    "    ed_run.run()\n",
    "\n",
    "    # fit the fit\n",
    "    h = nqs_fit.fit_dynamics(ed_run.states, criterion=1e-16, links=links)\n",
    "    \n",
    "    # append\n",
    "    fits_dt.append(nqs_fit)\n",
    "\n",
    "    # update for the next loop iteration\n",
    "    run_spectral_lines = track_eigenvalues_with_prediction(np.array(nqs_fit.spectrum))\n",
    "    breakdown_index = np.argmin(nqs_fit.spectrum[2:])\n",
    "    print(\"cusp depth = \", np.min(nqs_fit.spectrum[2:]), \" at index \", breakdown_index)\n",
    "    breakdown_time = ed_run.times[breakdown_index]\n",
    "    starting_index = breakdown_index-25 if (breakdown_index-25)>=0 else 0 # check that it doesn't spill over into negative times (it fucks up the indexing)\n",
    "    ti = ed_run.times[starting_index]\n",
    "    tf = 2*breakdown_time - ti if (2*breakdown_time - ti) > ti else ed_run.times[-1] # same for ending times\n",
    "    winit_fit = nqs_fit.states[starting_index].copy()\n",
    "    initial_psi = ed_run.states[starting_index].copy()\n",
    "    \n",
    "    print(\"----------------------------------\")"
   ]
  },
  {
   "cell_type": "code",
   "execution_count": null,
   "id": "85950409",
   "metadata": {},
   "outputs": [],
   "source": [
    "# get the data\n",
    "fits_dt_spectra = [\n",
    "    track_eigenvalues_with_prediction(np.array(s.spectrum)) for s in fits_dt]\n",
    "#spectral_minima = [np.min(idt.spectrum[2:]) for idt in implicit_dt]\n",
    "fit_spectral_minima = [np.min(sp[2:]) for sp in fits_dt_spectra]\n",
    "fit_timesteps = [idt.dt for idt in fits_dt]"
   ]
  },
  {
   "cell_type": "markdown",
   "id": "026e27f2",
   "metadata": {},
   "source": [
    "# <span style='color: lightgreen'> **Plots** </span>"
   ]
  },
  {
   "cell_type": "markdown",
   "id": "fbd1b442",
   "metadata": {},
   "source": [
    "## (a, b, c) Eigenvalues"
   ]
  },
  {
   "cell_type": "code",
   "execution_count": null,
   "id": "8cda2629",
   "metadata": {},
   "outputs": [],
   "source": [
    "# get the lines from data\n",
    "imp_spectral_lines = track_eigenvalues_with_prediction(np.array(dyn_imp.spectrum))\n",
    "reg_spectral_lines = track_eigenvalues_with_prediction(np.array(dyn_reg.spectrum))\n",
    "fit_spectral_lines = track_eigenvalues_with_prediction(np.array(dyn_fit.spectrum))"
   ]
  },
  {
   "cell_type": "markdown",
   "id": "99e8fc23",
   "metadata": {},
   "source": [
    "You might have to rearange which eigenvalues go on which graph. The line-connecting function doesn't sort them by anything. You might also have to re-run it, since the function is not perfect."
   ]
  },
  {
   "cell_type": "code",
   "execution_count": null,
   "id": "d48d9f4a",
   "metadata": {},
   "outputs": [],
   "source": [
    "# plt settings\n",
    "fig, axes = plt.subplots(3, figsize=(12, 8), gridspec_kw={'height_ratios': [1, 1, 4]})\n",
    "plt.subplots_adjust(hspace=0.1)\n",
    "# bottom ticks\n",
    "axes[0].tick_params(labelbottom=False)\n",
    "axes[1].tick_params(labelbottom=False)\n",
    "\n",
    "# visual settings\n",
    "# from coolors.co: Off Red, Picton Blue, Sea Green, Licorice, either Silver: '#C1BDB3' or Timberwolf: '#D4D2D5'\n",
    "cols = ['#F40000', '#00A6ED', '#09814A', '#291F1E', '#D4D2D5']\n",
    "opacities = [0.75, 0.75, 0.75, 1]\n",
    "\n",
    "# axes limits\n",
    "for ax in axes:\n",
    "    ax.set_xlim([0, 1.5])\n",
    "\n",
    "# plots upper axis (largest eigenvalues)\n",
    "axes[0].plot(dyn_imp.times, imp_spectral_lines[-3], lw = 4, alpha = opacities[3], color = cols[3], label='implicit')\n",
    "axes[0].plot(dyn_reg.times, reg_spectral_lines[-3], lw = 4, alpha = opacities[1], color = cols[0], label = 'explicit')\n",
    "axes[0].plot(dyn_fit.times, fit_spectral_lines[-3], lw = 3, ls = (0,(5,1)), color =cols[-2], alpha = 0.5, label = 'exact')\n",
    "\n",
    "\n",
    "# plots middle axis (mid eigenvalues)\n",
    "axes[1].plot(dyn_imp.times, imp_spectral_lines[-2], lw = 4, alpha = opacities[3], color = cols[3])\n",
    "axes[1].plot(dyn_reg.times, reg_spectral_lines[-2], lw = 4, alpha = opacities[1], color = cols[0])\n",
    "axes[1].plot(dyn_fit.times, fit_spectral_lines[-2], lw = 3, ls = (0,(5,1)), color =cols[-2], alpha = 0.5)\n",
    "\n",
    "# plots lower axis finite eigenvalues\n",
    "axes[2].plot(dyn_imp.times, imp_spectral_lines[-1], lw = 4, alpha = opacities[3], color = cols[3])\n",
    "axes[2].plot(dyn_reg.times, reg_spectral_lines[-1], lw = 4, alpha = opacities[1], color = cols[0])\n",
    "axes[2].plot(dyn_fit.times, fit_spectral_lines[-1], lw = 3, ls = (0,(5,1)), color =cols[-2], alpha = 0.5)\n",
    "\n",
    "# plot lower axis zeros\n",
    "for i in range(len(dyn_reg.spectrum[:2])):\n",
    "    axes[2].plot(dyn_imp.times, imp_spectral_lines[i], lw = 4, alpha = opacities[3], color = cols[3])\n",
    "    axes[2].plot(dyn_reg.times, reg_spectral_lines[i], lw = 4, alpha = opacities[1], color = cols[0])\n",
    "    axes[2].plot(dyn_fit.times, fit_spectral_lines[i], lw = 3, ls = (0,(5,1)), color =cols[-2], alpha = 0.5)\n",
    "\n",
    "# settings\n",
    "axes[2].set_yscale('log')\n",
    "axes[2].set_ylim([1e-17, 10])  \n",
    "\n",
    "# some transition magic\n",
    "axes[0].spines[['bottom']].set_visible(False)\n",
    "axes[0].tick_params(axis='x', length=0)\n",
    "axes[1].spines[['top']].set_visible(False)\n",
    "\n",
    "# grids\n",
    "axes[0].grid(True, which='both', linestyle='--', color='gray', alpha=0.7)\n",
    "axes[1].grid(True, which='both', linestyle='--', color='gray', alpha=0.7)\n",
    "\n",
    "# y limits\n",
    "axes[1].set_ylim([0.4, 1.2])\n",
    "\n",
    "# titles and labels\n",
    "axes[2].set_xlabel(\"time $(1/J_0)$\")\n",
    "axes[0].set_title(r\"correlation function $\\left< S_i S_{i+1} \\right>$\", pad = 20)\n",
    "\n",
    "# legend\n",
    "axes[0].legend(ncols = 1, frameon = False,  bbox_to_anchor=(1, 0.5), loc='center left')\n",
    "\n",
    "# save\n",
    "plt.savefig(\"Smatrix_spectra.svg\", format=\"svg\", bbox_inches = \"tight\")"
   ]
  },
  {
   "cell_type": "markdown",
   "id": "091a4ef5",
   "metadata": {},
   "source": [
    "## Inset"
   ]
  },
  {
   "cell_type": "code",
   "execution_count": null,
   "id": "3999b5c1",
   "metadata": {},
   "outputs": [],
   "source": [
    "# reshape data\n",
    "# fit\n",
    "fit_timesteps_final =  [dyn_fit.dt] + fit_timesteps\n",
    "fit_spectral_minima_final = [np.min(dyn_fit.spectrum[2:])] + fit_spectral_minima\n",
    "\n",
    "# implicit\n",
    "imp_timesteps_final = [dyn_imp.dt] + imp_timesteps\n",
    "imp_spectral_minima_final = [np.min(dyn_imp.spectrum[2:])] + imp_spectral_minima\n",
    "\n",
    "# regularization\n",
    "reg_timesteps_final = [dyn_reg.dt] + reg_timesteps\n",
    "reg_spectral_minima_final = [np.min(dyn_reg.spectrum[2:])] + reg_spectral_minima"
   ]
  },
  {
   "cell_type": "markdown",
   "id": "ee5970be",
   "metadata": {},
   "source": [
    "You might want to cut out some data because the time steps tend to get super small. The data might not end up entirely identical in every run."
   ]
  },
  {
   "cell_type": "code",
   "execution_count": null,
   "id": "290abab7",
   "metadata": {},
   "outputs": [],
   "source": [
    "fig, ax = plt.subplots(figsize=(6,4))\n",
    "\n",
    "# plot the data\n",
    "ax.plot(fit_timesteps_final[:19], fit_spectral_minima_final[:19], \n",
    "         color = 'gray', ls = (0,(5,1)), marker = 'o')\n",
    "ax.plot(imp_timesteps_final, imp_spectral_minima_final, \n",
    "         color = '#291F1E', marker = 'o')\n",
    "ax.plot(reg_timesteps_final[:15], reg_spectral_minima_final[:15], \n",
    "         color = '#F40000', marker = 'o')\n",
    "\n",
    "\n",
    "# axis options\n",
    "# plt.xlabel(\"time step\")\n",
    "# plt.ylabel(\"cusp depth\")\n",
    "ax.set_xscale(\"log\")\n",
    "ax.set_yscale(\"log\")\n",
    "ax.set_xlim([5e-10,3e-3])\n",
    "ax.set_xticks([1e-9, 1e-7, 1e-5, 1e-3])\n",
    "ax.yaxis.tick_right()\n",
    "ax.yaxis.set_label_position(\"right\")\n",
    "\n",
    "# visual options\n",
    "#plt.gca().spines[['right', 'top']].set_visible(False)\n",
    "ax.grid(True, which='both', linestyle='--', color='gray', alpha=0.7)\n",
    "\n",
    "plt.savefig(\"cusps_timesteps.svg\", format=\"svg\", bbox_inches=\"tight\")"
   ]
  },
  {
   "cell_type": "markdown",
   "id": "50984dd1",
   "metadata": {},
   "source": [
    "# <span style='color: pink'> **Saving** </span>"
   ]
  },
  {
   "cell_type": "code",
   "execution_count": null,
   "id": "1e49f3e4",
   "metadata": {},
   "outputs": [],
   "source": [
    "# headers\n",
    "head_eigenvalues = \"time, [eigenvalue lines]\"\n",
    "head_inset = \"time step, cusp depth\""
   ]
  },
  {
   "cell_type": "markdown",
   "id": "c4665e9b",
   "metadata": {},
   "source": [
    "## (a, b, c) Eigenvalue lines"
   ]
  },
  {
   "cell_type": "code",
   "execution_count": null,
   "id": "fdfd7419",
   "metadata": {},
   "outputs": [],
   "source": [
    "# explicit\n",
    "data = np.c_[dyn_reg.times, reg_spectral_lines.T]\n",
    "\n",
    "np.savetxt(\"data/eigenvalues/explicit_eigenvalues.txt\", data, header = head_eigenvalues, delimiter=\", \")"
   ]
  },
  {
   "cell_type": "code",
   "execution_count": null,
   "id": "815ebeaa",
   "metadata": {},
   "outputs": [],
   "source": [
    "# implicit\n",
    "data = np.c_[dyn_imp.times, imp_spectral_lines.T]\n",
    "\n",
    "np.savetxt(\"data/eigenvalues/implicit_eigenvalues.txt\", data, header = head_eigenvalues, delimiter=\", \")"
   ]
  },
  {
   "cell_type": "code",
   "execution_count": null,
   "id": "8946297a",
   "metadata": {},
   "outputs": [],
   "source": [
    "# fit\n",
    "data = np.c_[dyn_fit.times, fit_spectral_lines.T]\n",
    "\n",
    "np.savetxt(\"data/eigenvalues/fit_eigenvalues.txt\", data, header = head_eigenvalues, delimiter=\", \")"
   ]
  },
  {
   "cell_type": "markdown",
   "id": "4a019d29",
   "metadata": {},
   "source": [
    "## (inset) Cusp depths"
   ]
  },
  {
   "cell_type": "code",
   "execution_count": null,
   "id": "12654a09",
   "metadata": {},
   "outputs": [],
   "source": [
    "# explicit\n",
    "data = np.c_[reg_timesteps_final[:15], reg_spectral_minima_final[:15]]\n",
    "\n",
    "np.savetxt(\"data/cusps/explicit_cusps.txt\", data, header = head_inset, delimiter=\", \")"
   ]
  },
  {
   "cell_type": "code",
   "execution_count": null,
   "id": "f08ccfc7",
   "metadata": {},
   "outputs": [],
   "source": [
    "# implicit\n",
    "data = np.c_[imp_timesteps_final, imp_spectral_minima_final]\n",
    "\n",
    "np.savetxt(\"data/cusps/implicit_cusps.txt\", data, header = head_inset, delimiter=\", \")"
   ]
  },
  {
   "cell_type": "code",
   "execution_count": null,
   "id": "2cda3f65",
   "metadata": {},
   "outputs": [],
   "source": [
    "# fit\n",
    "data = np.c_[fit_timesteps_final[:19], fit_spectral_minima_final[:19]]\n",
    "\n",
    "np.savetxt(\"data/cusps/fit_cusps.txt\", data, header = head_inset, delimiter=\", \")"
   ]
  }
 ],
 "metadata": {
  "kernelspec": {
   "display_name": ".venv",
   "language": "python",
   "name": "python3"
  },
  "language_info": {
   "codemirror_mode": {
    "name": "ipython",
    "version": 3
   },
   "file_extension": ".py",
   "mimetype": "text/x-python",
   "name": "python",
   "nbconvert_exporter": "python",
   "pygments_lexer": "ipython3",
   "version": "3.10.11"
  }
 },
 "nbformat": 4,
 "nbformat_minor": 5
}
