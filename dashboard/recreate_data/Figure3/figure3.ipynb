{
 "cells": [
  {
   "cell_type": "code",
   "execution_count": null,
   "id": "f70041b5",
   "metadata": {},
   "outputs": [],
   "source": [
    "from src import *\n",
    "import numpy as np\n",
    "import matplotlib.pyplot as plt\n",
    "\n",
    "#plt.rcParams['text.usetex'] = True\n",
    "plt.rcParams.update({'font.size': 25,\n",
    "                     'font.family': 'Candara',\n",
    "                     'text.usetex': True\n",
    "                     })\n",
    "\n",
    "%load_ext autoreload\n",
    "%autoreload 2"
   ]
  },
  {
   "cell_type": "markdown",
   "id": "275538cc",
   "metadata": {},
   "source": [
    "# ED"
   ]
  },
  {
   "cell_type": "markdown",
   "id": "145f2d93",
   "metadata": {},
   "source": [
    "Run ED on a small lattice just for reference."
   ]
  },
  {
   "cell_type": "code",
   "execution_count": null,
   "id": "1c12ccb2",
   "metadata": {},
   "outputs": [],
   "source": [
    "# parameters\n",
    "Lx, Ly = 2,2\n",
    "lat = hilbert.lattice(Lx, Ly)\n",
    "\n",
    "# dynamics related stuff\n",
    "steps = 2000\n",
    "endtime = 2.\n",
    "breakdown = lambda t: -2\n",
    "\n",
    "# links to process\n",
    "links = [(0,2)]\n",
    "\n",
    "# run and make it a reference\n",
    "ed = exact.ED(lat, steps, endtime, perturbator=breakdown)\n",
    "ed.run()\n",
    "ref = np.array(ed.observables['correlations'][(0,2)])"
   ]
  },
  {
   "cell_type": "markdown",
   "id": "e9ec08e5",
   "metadata": {},
   "source": [
    "# **Parameters and data files**"
   ]
  },
  {
   "cell_type": "markdown",
   "id": "3427d4b0",
   "metadata": {},
   "source": [
    "Here, we're only reading the data from ULTRAFAST. Note: the data is in physical units, while in the ULTRAFAST code and output, it's in computational units."
   ]
  },
  {
   "cell_type": "code",
   "execution_count": null,
   "id": "480aff10",
   "metadata": {},
   "outputs": [],
   "source": [
    "# times used\n",
    "times = np.linspace(0, 2, 1001)[:-2]\n",
    "\n",
    "# alphas and sizes\n",
    "alphas = [1,2,3,4,5]\n",
    "sizes = [2,4,6]\n",
    "\n",
    "# folders\n",
    "alphas_address = \"data/alpha_dependence/\"\n",
    "sizes_address = \"data/size_dependence/\"\n",
    "\n",
    "# file addresses\n",
    "alphas_files = [alphas_address + \"Spincorr_4_{:}.txt\".format(a) for a in alphas]\n",
    "sizes_files = [sizes_address + \"Spincorr_{:}_1.txt\".format(int(s**2)) for s in sizes]"
   ]
  },
  {
   "cell_type": "code",
   "execution_count": null,
   "id": "79060d23",
   "metadata": {},
   "outputs": [],
   "source": [
    "# read all alpha files\n",
    "alphas_data = [np.loadtxt(file)[:999] for file in alphas_files]\n",
    "\n",
    "# read all size files\n",
    "sizes_data = [np.loadtxt(file)[:999] for file in sizes_files]"
   ]
  },
  {
   "cell_type": "markdown",
   "id": "0fd26499",
   "metadata": {},
   "source": [
    "# <span style='color: lightgreen'> **Plots** </span>"
   ]
  },
  {
   "cell_type": "markdown",
   "id": "15a8772b",
   "metadata": {},
   "source": [
    "## $\\alpha$-s plot"
   ]
  },
  {
   "cell_type": "code",
   "execution_count": null,
   "id": "5f819b54",
   "metadata": {},
   "outputs": [],
   "source": [
    "# color maps black magic\n",
    "to_hex = lambda rgba: '#{:02x}{:02x}{:02x}'.format(*(int(255*x) for x in rgba[:3]))\n",
    "cmap = plt.get_cmap('autumn')\n",
    "num_colors = 8\n",
    "values = np.linspace(0, 1, num_colors)\n",
    "colors = [to_hex(cmap(v)) for v in values]"
   ]
  },
  {
   "cell_type": "code",
   "execution_count": null,
   "id": "c5f382b0",
   "metadata": {},
   "outputs": [],
   "source": [
    "# plot settings\n",
    "fig, axes = plt.subplots(5, figsize=(10, 4.2))\n",
    "plt.subplots_adjust(hspace=-0.8)\n",
    "\n",
    "# remove the annoying visual elements\n",
    "for ax in axes[:-1]:\n",
    "    ax.set_facecolor('none')\n",
    "    ax.tick_params(labelbottom=False)\n",
    "axes[-1].set_facecolor('none')\n",
    "\n",
    "# set colors\n",
    "cols_alpha = colors\n",
    "\n",
    "# ED reference\n",
    "ref = ed.observables['correlations'][(0,2)]\n",
    "\n",
    "# actual plot\n",
    "for (i,ax) in enumerate(axes[::-1]):\n",
    "    ax.axhline(y=0, color=cols_alpha[i], linewidth=0.75, ls = \"--\")\n",
    "    ax.plot(times, alphas_data[i]/4, color = cols_alpha[i], lw = 6, alpha = 0.75)\n",
    "    if i == 0:\n",
    "        ax.plot(ed.times, ref, lw = 4, ls = (0,(5,1)), color = '#291F1E', alpha = 0.4)\n",
    "\n",
    "# set some plot settings\n",
    "#axes[-1].set_xlabel('time $(1/J_0)$')\n",
    "\n",
    "for (i,ax) in enumerate(axes[::-1]):\n",
    "    # axis ranges\n",
    "    ax.set_xlim([0,1.5])\n",
    "    ax.set_ylim([-0.55, 0.05])\n",
    "\n",
    "    # ticks\n",
    "    if i != 0:\n",
    "        ax.set_yticks([0])\n",
    "    else:\n",
    "        ax.set_yticks([-0.5, -0.4, -0.3, -0.2, -0.1, 0])\n",
    "        ax.set_yticklabels([\"$-0.5$\", \"$-0.4$\", \"$-0.3$\", \"$-0.2$\", \"$-0.1$\", \"$0$\"])\n",
    "\n",
    "    # spines (graph borders)\n",
    "    if i != 0:\n",
    "        ax.spines[['right', 'top', 'bottom']].set_visible(False)\n",
    "        ax.tick_params(axis='x', length=0)\n",
    "    else:\n",
    "        ax.spines[['right', 'top']].set_visible(False)\n",
    "    \n",
    "    # tick labels: colors and alphas\n",
    "    for label in ax.get_yticklabels():\n",
    "        label.set_color(cols_alpha[i])\n",
    "        label.set_alpha(0.9)\n",
    "    ax.tick_params(axis='y', which='both', color=cols_alpha[i], width = 1, length = 4)\n",
    "    for tick_line in ax.yaxis.get_ticklines():\n",
    "        tick_line.set_alpha(0.9)\n",
    "\n",
    "# plot labels\n",
    "axes[-1].set_xlabel(\"time $(1/J_0)$\")\n",
    "axes[0].set_title(r\"correlation function $\\left< S_i S_{i+1} \\right>$\", pad = 20)\n",
    "\n",
    "plt.savefig(\"ultrafast_alphas.svg\", format=\"svg\", bbox_inches = \"tight\")"
   ]
  },
  {
   "cell_type": "markdown",
   "id": "be5fb6f8",
   "metadata": {},
   "source": [
    "## sizes plot"
   ]
  },
  {
   "cell_type": "code",
   "execution_count": null,
   "id": "7c047f7a",
   "metadata": {},
   "outputs": [],
   "source": [
    "# plot settings\n",
    "fig, axes = plt.subplots(2, figsize=(10, 4.2))\n",
    "plt.subplots_adjust(hspace=0.1)\n",
    "axes[0].tick_params(labelbottom=False)\n",
    "\n",
    "# visual settings\n",
    "# quinacridone magenta, tropical indigo\n",
    "cols_sizes = [\"#8F2D56\", \"#947BD3\"]\n",
    "\n",
    "# plots themselves\n",
    "for (i,ax) in enumerate(axes):\n",
    "    ax.axhline(y=0, color=cols_sizes[i], linewidth=0.75, ls = \"--\")\n",
    "    ax.plot(times, sizes_data[1:][i], color = cols_sizes[i], lw = 6, alpha = 0.75, label = r\"${:} \\times {:}$\".format(sizes[i+1], sizes[i+1]))\n",
    "\n",
    "\n",
    "for (i,ax) in enumerate(axes[::-1]):\n",
    "    # axis ranges\n",
    "    ax.set_xlim([0,1.5])\n",
    "    ax.set_ylim([-0.55, 0.05])\n",
    "\n",
    "    # ticks\n",
    "    ax.set_yticks([-0.5, -0.4, -0.3, -0.2, -0.1, 0])\n",
    "    ax.set_yticklabels([\"$-0.5$\", \"\", \"\", \"\", \"\", \"$0$\"])\n",
    "\n",
    "    # spines (graph borders)\n",
    "    if i != 0:\n",
    "        ax.spines[['right', 'top', 'bottom']].set_visible(False)\n",
    "        ax.tick_params(axis='x', length=0)\n",
    "    else:\n",
    "        ax.spines[['right', 'top']].set_visible(False)\n",
    "\n",
    "# plot labels\n",
    "axes[-1].set_xlabel(\"time $(1/J_0)$\")\n",
    "axes[0].set_title(r\"correlation function $\\left< S_i S_{i+1} \\right>$\", pad = 20)\n",
    "\n",
    "# legends\n",
    "axes[0].legend(frameon = False)\n",
    "axes[1].legend(frameon = False)\n",
    "\n",
    "plt.savefig(\"ultrafast_sizes.svg\", format=\"svg\", bbox_inches = \"tight\")"
   ]
  }
 ],
 "metadata": {
  "kernelspec": {
   "display_name": ".venv",
   "language": "python",
   "name": "python3"
  },
  "language_info": {
   "codemirror_mode": {
    "name": "ipython",
    "version": 3
   },
   "file_extension": ".py",
   "mimetype": "text/x-python",
   "name": "python",
   "nbconvert_exporter": "python",
   "pygments_lexer": "ipython3",
   "version": "3.10.11"
  }
 },
 "nbformat": 4,
 "nbformat_minor": 5
}
