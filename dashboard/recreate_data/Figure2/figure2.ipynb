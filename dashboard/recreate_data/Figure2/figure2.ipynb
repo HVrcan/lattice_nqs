{
 "cells": [
  {
   "cell_type": "code",
   "execution_count": null,
   "id": "1efc0467",
   "metadata": {},
   "outputs": [],
   "source": [
    "# import everything you need\n",
    "from src import *\n",
    "import numpy as np\n",
    "import matplotlib.pyplot as plt\n",
    "\n",
    "# set plot properties\n",
    "plt.rcParams.update({'font.size': 25,\n",
    "                     'font.family': 'Candara',\n",
    "                     'text.usetex': True\n",
    "                     })\n",
    "\n",
    "# notebook code reloading\n",
    "%load_ext autoreload\n",
    "%autoreload 2"
   ]
  },
  {
   "cell_type": "markdown",
   "id": "7836f8f5",
   "metadata": {},
   "source": [
    "# Settings"
   ]
  },
  {
   "cell_type": "code",
   "execution_count": null,
   "id": "32a4b1ff",
   "metadata": {},
   "outputs": [],
   "source": [
    "# for the lattice\n",
    "Lx, Ly = 2,2\n",
    "lat = hilbert.lattice(Lx, Ly)\n",
    "\n",
    "# for the network\n",
    "alpha = 1/4\n",
    "\n",
    "# for ground state optimization\n",
    "eta = 0.01\n",
    "\n",
    "# for dynamics\n",
    "steps = 1500\n",
    "endtime = 1.5\n",
    "wellbehaved = lambda t: 0.5 # a nice quench\n",
    "breakdown = lambda t: -2. # an unstable quench\n",
    "\n",
    "# links to process\n",
    "links = [(0,2)]"
   ]
  },
  {
   "cell_type": "markdown",
   "id": "227d4b0a",
   "metadata": {},
   "source": [
    "# **Ground state**"
   ]
  },
  {
   "cell_type": "markdown",
   "id": "8db08a87",
   "metadata": {},
   "source": [
    "This is how you can get the ground state."
   ]
  },
  {
   "cell_type": "code",
   "execution_count": null,
   "id": "77357c0f",
   "metadata": {},
   "outputs": [],
   "source": [
    "# declare\n",
    "gs = groundstate.descent(lat, alpha, eta)\n",
    "\n",
    "# run\n",
    "gs.optimize(miniter=1000)"
   ]
  },
  {
   "cell_type": "markdown",
   "id": "1f4aa4fc",
   "metadata": {},
   "source": [
    "Let's use my ground state instead."
   ]
  },
  {
   "cell_type": "code",
   "execution_count": null,
   "id": "f055c0d1",
   "metadata": {},
   "outputs": [],
   "source": [
    "# load it from the provided file\n",
    "initial_state = np.array(np.loadtxt('../initial_state.txt'), dtype = complex)\n",
    "\n",
    "# NOTE: if you want to use the ground state from the descent class instead, uncomment the following line:\n",
    "#initial_state = gs.states[-1].copy()\n",
    "initial_state"
   ]
  },
  {
   "cell_type": "markdown",
   "id": "48e9eaf3",
   "metadata": {},
   "source": [
    "# <span style='color: lightblue'> **Calculations** </span>"
   ]
  },
  {
   "cell_type": "markdown",
   "id": "9f988f56",
   "metadata": {},
   "source": [
    "We're calculating ED and NQS dynamics for two quenches, $\\Delta = 0.5$ (well behaved), and $\\Delta = -2$ (breakdown), for different combinations of formulations and integrators. The time step of the implicit integration is deliberately reduced, to highliht the offset from exact solutions for different formulations."
   ]
  },
  {
   "cell_type": "markdown",
   "id": "abe4742d",
   "metadata": {},
   "source": [
    "## ED"
   ]
  },
  {
   "cell_type": "code",
   "execution_count": null,
   "id": "f5f9b5c5",
   "metadata": {},
   "outputs": [],
   "source": [
    "# make ED breakdown\n",
    "ed_m2 = exact.ED(lat, steps, endtime, perturbator=breakdown)\n",
    "ed_m2.run()\n",
    "\n",
    "# make ED D = 0.5\n",
    "ed_05 = exact.ED(lat, steps, endtime, perturbator=wellbehaved)\n",
    "ed_05.run()"
   ]
  },
  {
   "cell_type": "markdown",
   "id": "6dcc0edd",
   "metadata": {},
   "source": [
    "## NQS $\\Delta = -2$"
   ]
  },
  {
   "cell_type": "code",
   "execution_count": null,
   "id": "747a9e86",
   "metadata": {},
   "outputs": [],
   "source": [
    "# declare explicit runs\n",
    "\n",
    "exp_reg_m2 = dynamics.evolution(lat, alpha, initial_state.copy(), \n",
    "                             steps, endtime, perturbator=breakdown,\n",
    "                             formulation='regularization', regulator = 1e-5)\n",
    "exp_dia_m2 = dynamics.evolution(lat, alpha, initial_state.copy(), \n",
    "                             steps, endtime, perturbator=breakdown,\n",
    "                             formulation='diagonalization')\n",
    "exp_geo_m2 = dynamics.evolution(lat, alpha, initial_state.copy(), \n",
    "                             steps, endtime, perturbator=breakdown,\n",
    "                             formulation='geometric')\n",
    "\n",
    "# declare implicit runs\n",
    "\n",
    "imp_reg_m2 = dynamics.evolution(lat, alpha, initial_state.copy(), \n",
    "                             int(steps/2), endtime, perturbator=breakdown,\n",
    "                             formulation='regularization', regulator = 1e-5, # this regulator doesn't break down\n",
    "                             integrator='implicit_midpoint')\n",
    "\n",
    "imp_dia_m2 = dynamics.evolution(lat, alpha, initial_state.copy(), \n",
    "                             int(steps/2), endtime, perturbator=breakdown,\n",
    "                             formulation='diagonalization',\n",
    "                             integrator='implicit_midpoint')\n",
    "\n",
    "imp_geo_m2 = dynamics.evolution(lat, alpha, initial_state.copy(), \n",
    "                             int(steps/2), endtime, perturbator=breakdown,\n",
    "                             formulation='geometric',\n",
    "                             integrator='implicit_midpoint')"
   ]
  },
  {
   "cell_type": "code",
   "execution_count": null,
   "id": "d9d7f3b4",
   "metadata": {},
   "outputs": [],
   "source": [
    "# run them all\n",
    "print(\"\\nRunning explicit...\\n\")\n",
    "exp_reg_m2.run()\n",
    "exp_dia_m2.run()\n",
    "exp_geo_m2.run()\n",
    "print(\"\\nRunning implicit...\\n\")\n",
    "imp_reg_m2.run()\n",
    "imp_dia_m2.run()\n",
    "imp_geo_m2.run()\n",
    "\n",
    "# analyze correlations\n",
    "print(\"\\nProcessing explicit correlations...\\n\")\n",
    "exp_reg_m2.process_links(links)\n",
    "exp_dia_m2.process_links(links)\n",
    "exp_geo_m2.process_links(links)\n",
    "print(\"\\nProcessing implicit correlations...\\n\")\n",
    "imp_reg_m2.process_links(links)\n",
    "imp_dia_m2.process_links(links)\n",
    "imp_geo_m2.process_links(links)"
   ]
  },
  {
   "cell_type": "markdown",
   "id": "b0308673",
   "metadata": {},
   "source": [
    "## NQS $\\Delta = 0.5$"
   ]
  },
  {
   "cell_type": "code",
   "execution_count": null,
   "id": "072b3214",
   "metadata": {},
   "outputs": [],
   "source": [
    "# declare explicit runs\n",
    "\n",
    "exp_reg_05 = dynamics.evolution(lat, alpha, initial_state.copy(), \n",
    "                             steps, endtime, perturbator =lambda t: 0.5,\n",
    "                             formulation='regularization', regulator = 1e-5)\n",
    "exp_dia_05 = dynamics.evolution(lat, alpha, initial_state.copy(), \n",
    "                             steps, endtime, perturbator = lambda t: 0.5,\n",
    "                             formulation='diagonalization')\n",
    "exp_geo_05 = dynamics.evolution(lat, alpha, initial_state.copy(), \n",
    "                             steps, endtime, perturbator = lambda t: 0.5,\n",
    "                             formulation='geometric')\n",
    "\n",
    "# declare implicit runs\n",
    "\n",
    "imp_reg_05 = dynamics.evolution(lat, alpha, initial_state.copy(), \n",
    "                             int(steps/2), endtime, perturbator = lambda t: 0.5,\n",
    "                             formulation='regularization', regulator = 1e-5,\n",
    "                             integrator='implicit_midpoint')\n",
    "\n",
    "imp_dia_05 = dynamics.evolution(lat, alpha, initial_state.copy(), \n",
    "                             int(steps/2), endtime, perturbator = lambda t: 0.5,\n",
    "                             formulation='diagonalization',\n",
    "                             integrator='implicit_midpoint')\n",
    "\n",
    "imp_geo_05 = dynamics.evolution(lat, alpha, initial_state.copy(), \n",
    "                             int(steps/2), endtime, perturbator = lambda t: 0.5,\n",
    "                             formulation='geometric',\n",
    "                             integrator='implicit_midpoint')"
   ]
  },
  {
   "cell_type": "code",
   "execution_count": null,
   "id": "4d21e989",
   "metadata": {},
   "outputs": [],
   "source": [
    "# run them all\n",
    "print(\"\\nRunning explicit...\\n\")\n",
    "exp_reg_05.run()\n",
    "exp_dia_05.run()\n",
    "exp_geo_05.run()\n",
    "print(\"\\nRunning implicit...\\n\")\n",
    "imp_reg_05.run()\n",
    "imp_dia_05.run()\n",
    "imp_geo_05.run()\n",
    "\n",
    "# analyze them all\n",
    "print(\"\\nProcessing explicit...\\n\")\n",
    "exp_reg_05.process_links(links)\n",
    "exp_dia_05.process_links(links)\n",
    "exp_geo_05.process_links(links)\n",
    "print(\"\\nProcessing implicit...\\n\")\n",
    "imp_reg_05.process_links(links)\n",
    "imp_dia_05.process_links(links)\n",
    "imp_geo_05.process_links(links)"
   ]
  },
  {
   "cell_type": "markdown",
   "id": "2b126fcd",
   "metadata": {},
   "source": [
    "# <span style='color: lightgreen'> **Plots** </span>"
   ]
  },
  {
   "cell_type": "markdown",
   "id": "42f0476d",
   "metadata": {},
   "source": [
    "## (a,b): $\\Delta = 0.5$"
   ]
  },
  {
   "cell_type": "code",
   "execution_count": null,
   "id": "d2440874",
   "metadata": {},
   "outputs": [],
   "source": [
    "# plot settings\n",
    "fig, axes = plt.subplots(3,2, figsize=(12, 5), sharex=True)\n",
    "plt.subplots_adjust(hspace=0.1, wspace = 0.1)\n",
    "\n",
    "# y sharing\n",
    "for row in axes:\n",
    "    for ax in row[1:]:\n",
    "        ax.sharey(row[0])\n",
    "        ax.tick_params(labelleft=False)\n",
    "\n",
    "# visual settings\n",
    "# order: regularization, diagonalization, geometric, implicit\n",
    "# from coolors.co: Off Red, Picton Blue, Sea Green, Licorice, either Silver: '#C1BDB3' or Timberwolf: '#D4D2D5'\n",
    "cols = ['#F40000', '#00A6ED', '#09814A', '#291F1E', '#D4D2D5']\n",
    "opacities = [0.75, 0.75, 0.75, 1.]\n",
    "\n",
    "# ED references\n",
    "ref = ed_05.observables['correlations'][(0,2)]\n",
    "ref_halftime = ref[::2]\n",
    "\n",
    "# explicit regularization\n",
    "axes[0,0].plot(ed_05.times, ref, lw = 8, ls = (0,(5,1)), color = cols[-2], alpha = 0.4)\n",
    "axes[0,0].plot(exp_reg_05.times, exp_reg_05.correlations[(0,2)], lw = 3.5, alpha = opacities[0], color = cols[0])\n",
    "axes[0,0].fill_between(ed_05.times, ref, exp_reg_05.correlations[(0,2)], interpolate=True, color=cols[-1], alpha=0.35)\n",
    "\n",
    "# explicit diagonalization\n",
    "axes[1,0].plot(ed_05.times, ref, lw = 8, ls = (0,(5,1)), color = cols[-2], alpha = 0.4)\n",
    "axes[1,0].plot(exp_dia_05.times, exp_dia_05.correlations[(0,2)], lw = 3.5, alpha = opacities[1], color = cols[1])\n",
    "axes[1,0].fill_between(ed_05.times, ref, exp_dia_05.correlations[(0,2)], interpolate=True, color=cols[-1], alpha=0.35)\n",
    "\n",
    "# explicit geometric\n",
    "axes[2,0].plot(ed_05.times, ref, lw = 8, ls = (0,(5,1)), color = cols[-2], alpha = 0.4)\n",
    "axes[2,0].plot(exp_geo_05.times, exp_geo_05.correlations[(0,2)], lw = 3.5, alpha = opacities[2], color = cols[2])\n",
    "axes[2,0].fill_between(ed_05.times, ref, exp_geo_05.correlations[(0,2)], interpolate=True, color=cols[-1], alpha=0.35)\n",
    "\n",
    "# implicit regularization\n",
    "axes[0,1].plot(imp_reg_05.times, ref_halftime, lw = 8, ls = (0,(5,1)), color = cols[-2], alpha = 0.4)\n",
    "axes[0,1].plot(imp_reg_05.times, imp_reg_05.correlations[(0,2)], lw = 5, alpha = 0.5, color = cols[0]) # glow\n",
    "axes[0,1].plot(imp_reg_05.times, imp_reg_05.correlations[(0,2)], lw = 1.5, alpha = opacities[3], color = cols[-2])\n",
    "axes[0,1].fill_between(imp_reg_05.times, ref_halftime, imp_reg_05.correlations[(0,2)], interpolate=True, color=cols[-1], alpha=0.35)\n",
    "\n",
    "# implicit diagonalization\n",
    "axes[1,1].plot(imp_dia_05.times, ref_halftime, lw = 8, ls = (0,(5,1)), color = cols[-2], alpha = 0.4)\n",
    "axes[1,1].plot(imp_dia_05.times, imp_dia_05.correlations[(0,2)], lw = 5, alpha = 0.75, color = cols[1]) # glow\n",
    "axes[1,1].plot(imp_dia_05.times, imp_dia_05.correlations[(0,2)], lw = 1.5, alpha = opacities[3], color = cols[3])\n",
    "axes[1,1].fill_between(imp_dia_05.times, ref_halftime, imp_dia_05.correlations[(0,2)], interpolate=True, color=cols[-1], alpha=0.35)\n",
    "\n",
    "# implicit geometric\n",
    "axes[2,1].plot(imp_geo_05.times, ref_halftime, lw = 8, ls = (0,(5,1)), color = cols[-2], alpha = 0.4)\n",
    "axes[2,1].plot(imp_geo_05.times, imp_geo_05.correlations[(0,2)], lw = 5, alpha = 0.5, color = cols[2]) # glow\n",
    "axes[2,1].plot(imp_geo_05.times, imp_geo_05.correlations[(0,2)], lw = 1.5, alpha = opacities[3], color = cols[3])\n",
    "axes[2,1].fill_between(imp_geo_05.times, ref_halftime, imp_geo_05.correlations[(0,2)], interpolate=True, color=cols[-1], alpha=0.35)\n",
    "\n",
    "\n",
    "# plot labels\n",
    "axes[2,0].set_xlabel(\"time $(1/J_0)$\")\n",
    "axes[2,1].set_xlabel(\"time $(1/J_0)$\")\n",
    "axes[1,0].set_ylabel(r\"correlation function $\\left< S_i S_{i+1} \\right>$\")\n",
    "\n",
    "# plot titles\n",
    "axes[0,0].set_title(\"explicit\")\n",
    "axes[0,1].set_title(\"implicit\")\n",
    "\n",
    "for (i,ax) in enumerate(axes.flatten()):\n",
    "    # axis ranges\n",
    "    ax.set_xlim([0,1.5])\n",
    "    ax.set_ylim([-0.75, -0.45])\n",
    "\n",
    "    # ticks\n",
    "    ax.set_yticks([-0.7, -0.6, -0.5])\n",
    "    ax.set_yticklabels([\"$-0.7$\", \"\", \"$-0.5$\"])\n",
    "    ax.set_xticks([0, 0.5, 1, 1.5])\n",
    "    ax.set_xticklabels([\"$0$\", \"$0.5$\", \"$1$\", \"$1.5$\"])\n",
    "\n",
    "    # spines (graph borders)\n",
    "    if i != 4 and i != 5:\n",
    "        ax.spines[['right', 'top', 'bottom']].set_visible(False)\n",
    "        ax.tick_params(axis='x', length=0)\n",
    "    else:\n",
    "        ax.spines[['right', 'top']].set_visible(False)\n",
    "\n",
    "plt.savefig(\"delta_05.svg\", format=\"svg\", bbox_inches = \"tight\")"
   ]
  },
  {
   "cell_type": "markdown",
   "id": "5564ffa6",
   "metadata": {},
   "source": [
    "## (c,d): $\\Delta = -2$"
   ]
  },
  {
   "cell_type": "code",
   "execution_count": null,
   "id": "76e1c89b",
   "metadata": {},
   "outputs": [],
   "source": [
    "# plot settings\n",
    "fig, axes = plt.subplots(3,2, figsize=(12, 5), sharex=True)\n",
    "plt.subplots_adjust(hspace=0.1, wspace = 0.1)\n",
    "\n",
    "# y sharing\n",
    "for row in axes:\n",
    "    for ax in row[1:]:\n",
    "        ax.sharey(row[0])\n",
    "        ax.tick_params(labelleft=False)\n",
    "\n",
    "# visual settings\n",
    "# order: regularization, diagonalization, geometric, implicit\n",
    "# from coolors.co: Off Red, Picton Blue, Sea Green, Licorice, either Silver: '#C1BDB3' or Timberwolf: '#D4D2D5'\n",
    "cols = ['#F40000', '#00A6ED', '#09814A', '#291F1E', '#D4D2D5']\n",
    "opacities = [0.75, 0.75, 0.75, 1.]\n",
    "\n",
    "# ED references\n",
    "ref = ed_m2.observables['correlations'][(0,2)]\n",
    "ref_halftime = ref[::2]\n",
    "\n",
    "# explicit regularization\n",
    "axes[0,0].plot(ed_m2.times, ref, lw = 3, ls = (0,(5,1)), color = cols[-2], alpha = 0.4)\n",
    "axes[0,0].plot(exp_reg_m2.times, exp_reg_m2.correlations[(0,2)], lw = 5, alpha = opacities[0], color = cols[0])\n",
    "axes[0,0].fill_between(ed_m2.times, ref, exp_reg_m2.correlations[(0,2)], interpolate=True, color=cols[-1], alpha=0.35)\n",
    "\n",
    "# explicit diagonalization\n",
    "axes[1,0].plot(ed_m2.times, ref, lw = 3, ls = (0,(5,1)), color = cols[-2], alpha = 0.4)\n",
    "axes[1,0].plot(exp_dia_m2.times, exp_dia_m2.correlations[(0,2)], lw = 5, alpha = opacities[1], color = cols[1])\n",
    "axes[1,0].fill_between(ed_m2.times, ref, exp_dia_m2.correlations[(0,2)], interpolate=True, color=cols[-1], alpha=0.35)\n",
    "\n",
    "# explicit geometric\n",
    "axes[2,0].plot(ed_m2.times, ref, lw = 3, ls = (0,(5,1)), color = cols[-2], alpha = 0.4)\n",
    "axes[2,0].plot(exp_geo_m2.times, exp_geo_m2.correlations[(0,2)], lw = 5, alpha = opacities[2], color = cols[2])\n",
    "axes[2,0].fill_between(ed_m2.times, ref, exp_geo_m2.correlations[(0,2)], interpolate=True, color=cols[-1], alpha=0.35)\n",
    "\n",
    "# implicit regularization\n",
    "axes[0,1].plot(imp_reg_m2.times, ref_halftime, lw = 3, ls = (0,(5,1)), color = cols[-2], alpha = 0.4)\n",
    "axes[0,1].plot(imp_reg_m2.times, imp_reg_m2.correlations[(0,2)], lw = 5, alpha = 0.5, color = cols[0]) # glow\n",
    "axes[0,1].plot(imp_reg_m2.times, imp_reg_m2.correlations[(0,2)], lw = 1.5, alpha = opacities[3], color = cols[-2])\n",
    "axes[0,1].fill_between(imp_reg_m2.times, ref_halftime, imp_reg_m2.correlations[(0,2)], interpolate=True, color=cols[-1], alpha=0.35)\n",
    "\n",
    "# implicit diagonalization\n",
    "axes[1,1].plot(imp_dia_m2.times, ref_halftime, lw = 3, ls = (0,(5,1)), color = cols[-2], alpha = 0.4)\n",
    "axes[1,1].plot(imp_dia_m2.times, imp_dia_m2.correlations[(0,2)], lw = 5, alpha = 0.75, color = cols[1]) # glow\n",
    "axes[1,1].plot(imp_dia_m2.times, imp_dia_m2.correlations[(0,2)], lw = 1.5, alpha = opacities[3], color = cols[-2])\n",
    "axes[1,1].fill_between(imp_dia_m2.times, ref_halftime, imp_dia_m2.correlations[(0,2)], interpolate=True, color=cols[-1], alpha=0.35)\n",
    "\n",
    "# implicit geometric\n",
    "axes[2,1].plot(imp_geo_m2.times, ref_halftime, lw = 3, ls = (0,(5,1)), color = cols[-2], alpha = 0.4)\n",
    "axes[2,1].plot(imp_geo_m2.times, imp_geo_m2.correlations[(0,2)], lw = 5, alpha = 0.5, color = cols[2]) # glow\n",
    "axes[2,1].plot(imp_geo_m2.times, imp_geo_m2.correlations[(0,2)], lw = 1.5, alpha = opacities[3], color = cols[-2])\n",
    "axes[2,1].fill_between(imp_geo_m2.times, ref_halftime, imp_geo_m2.correlations[(0,2)], interpolate=True, color=cols[-1], alpha=0.35)\n",
    "\n",
    "\n",
    "# plot labels\n",
    "axes[2,0].set_xlabel(\"time $(1/J_0)$\")\n",
    "axes[2,1].set_xlabel(\"time $(1/J_0)$\")\n",
    "axes[1,0].set_ylabel(r\"correlation function $\\left< S_i S_{i+1} \\right>$\")\n",
    "\n",
    "# plot titles\n",
    "axes[0,0].set_title(\"explicit\")\n",
    "axes[0,1].set_title(\"implicit\")\n",
    "\n",
    "for (i,ax) in enumerate(axes.flatten()):\n",
    "    # axis ranges\n",
    "    ax.set_xlim([0,1.5])\n",
    "    ax.set_ylim([-0.55, 0.05])\n",
    "\n",
    "    # ticks\n",
    "    ax.set_yticks([-0.5, -0.4, -0.3, -0.2, -0.1, 0])\n",
    "    ax.set_yticklabels([\"$-0.5$\", \"\", \"\", \"\", \"\", \"$0$\"])\n",
    "    ax.set_xticks([0, 0.5, 1, 1.5])\n",
    "    ax.set_xticklabels([\"$0$\", \"$0.5$\", \"$1$\", \"$1.5$\"])\n",
    "    #ax.tick_params(axis='y', colors='your_color')\n",
    "\n",
    "    # spines (graph borders)\n",
    "    if i != 4 and i != 5:\n",
    "        ax.spines[['right', 'top', 'bottom']].set_visible(False)\n",
    "        ax.tick_params(axis='x', length=0)\n",
    "    else:\n",
    "        ax.spines[['right', 'top']].set_visible(False)\n",
    "\n",
    "plt.savefig(\"delta_-2.svg\", format=\"svg\", bbox_inches = \"tight\")"
   ]
  },
  {
   "cell_type": "markdown",
   "id": "8785e48c",
   "metadata": {},
   "source": [
    "# <span style='color: pink'> **Saving** </span>"
   ]
  },
  {
   "cell_type": "code",
   "execution_count": null,
   "id": "d38c51ab",
   "metadata": {},
   "outputs": [],
   "source": [
    "# times array, same for all data\n",
    "times = ed_m2.times\n",
    "halftimes = imp_geo_m2.times\n",
    "\n",
    "# set header\n",
    "head = \"time, ED spin correlation, NQS regularization spin correlation, NQS diagonalization spin correlation, NQS geometric spin correlation\""
   ]
  },
  {
   "cell_type": "markdown",
   "id": "a6f13fec",
   "metadata": {},
   "source": [
    "## $\\Delta = 0.5$"
   ]
  },
  {
   "cell_type": "code",
   "execution_count": null,
   "id": "f0d847d3",
   "metadata": {},
   "outputs": [],
   "source": [
    "# explicit\n",
    "data = np.c_[times, ed_05.observables['correlations'][(0,2)], exp_reg_05.correlations[(0,2)], exp_dia_05.correlations[(0,2)] , exp_geo_05.correlations[(0,2)] ]\n",
    "\n",
    "np.savetxt(\"data/a_explicit_delta_0.5.txt\", data, header = head, delimiter=\", \")"
   ]
  },
  {
   "cell_type": "code",
   "execution_count": null,
   "id": "65e3b6b5",
   "metadata": {},
   "outputs": [],
   "source": [
    "# implicit\n",
    "data = np.c_[halftimes, ed_m2.observables['correlations'][(0,2)][::2], imp_reg_05.correlations[(0,2)], imp_dia_05.correlations[(0,2)] , imp_geo_05.correlations[(0,2)] ]\n",
    "\n",
    "np.savetxt(\"data/b_implicit_delta_0.5.txt\", data, header = head, delimiter=\", \")"
   ]
  },
  {
   "cell_type": "markdown",
   "id": "b0826b61",
   "metadata": {},
   "source": [
    "## $\\Delta = -2$"
   ]
  },
  {
   "cell_type": "code",
   "execution_count": null,
   "id": "a5d1f85a",
   "metadata": {},
   "outputs": [],
   "source": [
    "# explicit\n",
    "data = np.c_[times, ed_m2.observables['correlations'][(0,2)], exp_reg_m2.correlations[(0,2)], exp_dia_m2.correlations[(0,2)] , exp_geo_m2.correlations[(0,2)] ]\n",
    "\n",
    "np.savetxt(\"data/c_explicit_delta_-2.txt\", data, header = head, delimiter=\", \")"
   ]
  },
  {
   "cell_type": "code",
   "execution_count": null,
   "id": "bc5d1902",
   "metadata": {},
   "outputs": [],
   "source": [
    "# implicit\n",
    "data = np.c_[halftimes, ed_m2.observables['correlations'][(0,2)][::2], imp_reg_m2.correlations[(0,2)], imp_dia_m2.correlations[(0,2)] , imp_geo_m2.correlations[(0,2)] ]\n",
    "\n",
    "np.savetxt(\"data/d_implicit_delta_-2.txt\", data, header = head, delimiter=\", \")"
   ]
  }
 ],
 "metadata": {
  "kernelspec": {
   "display_name": ".venv",
   "language": "python",
   "name": "python3"
  },
  "language_info": {
   "codemirror_mode": {
    "name": "ipython",
    "version": 3
   },
   "file_extension": ".py",
   "mimetype": "text/x-python",
   "name": "python",
   "nbconvert_exporter": "python",
   "pygments_lexer": "ipython3",
   "version": "3.10.11"
  }
 },
 "nbformat": 4,
 "nbformat_minor": 5
}
