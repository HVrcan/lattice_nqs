{
 "cells": [
  {
   "cell_type": "code",
   "execution_count": null,
   "id": "ea2f0fdc",
   "metadata": {},
   "outputs": [],
   "source": [
    "# import everything you need\n",
    "from src import *\n",
    "import numpy as np\n",
    "import matplotlib.pyplot as plt\n",
    "\n",
    "# set plot properties\n",
    "plt.rcParams.update({'font.size': 25,\n",
    "                     'font.family': 'Candara',\n",
    "                     'text.usetex': True\n",
    "                     })\n",
    "\n",
    "# notebook code reloading\n",
    "%load_ext autoreload\n",
    "%autoreload 2"
   ]
  },
  {
   "cell_type": "markdown",
   "id": "4d0728ae",
   "metadata": {},
   "source": [
    "# Settings"
   ]
  },
  {
   "cell_type": "code",
   "execution_count": null,
   "id": "718ac3b6",
   "metadata": {},
   "outputs": [],
   "source": [
    "# for the lattice\n",
    "Lx, Ly = 2,2\n",
    "lat = hilbert.lattice(Lx, Ly)\n",
    "\n",
    "# for the network\n",
    "alpha = 1/4\n",
    "\n",
    "# for ground state optimization\n",
    "eta = 0.01\n",
    "\n",
    "# for dynamics\n",
    "steps = 1500\n",
    "endtime = 1.5\n",
    "\n",
    "# links to process\n",
    "links = [(0,2)]"
   ]
  },
  {
   "cell_type": "markdown",
   "id": "9a59d072",
   "metadata": {},
   "source": [
    "# **Ground state**"
   ]
  },
  {
   "cell_type": "markdown",
   "id": "9c7e02f7",
   "metadata": {},
   "source": [
    "This is how you can get the ground state."
   ]
  },
  {
   "cell_type": "code",
   "execution_count": null,
   "id": "d5608bdd",
   "metadata": {},
   "outputs": [],
   "source": [
    "# declare\n",
    "gs = groundstate.descent(lat, alpha, eta)\n",
    "\n",
    "# run\n",
    "gs.optimize(miniter=1000)"
   ]
  },
  {
   "cell_type": "markdown",
   "id": "515e07a1",
   "metadata": {},
   "source": [
    "Let's use my ground state instead."
   ]
  },
  {
   "cell_type": "code",
   "execution_count": null,
   "id": "b2978e86",
   "metadata": {},
   "outputs": [],
   "source": [
    "# load it from the provided file\n",
    "initial_state = np.array(np.loadtxt('../initial_state.txt'), dtype = complex)\n",
    "\n",
    "# NOTE: if you want to use the ground state from the descent class instead, uncomment the following line:\n",
    "#initial_state = gs.states[-1].copy()\n",
    "initial_state"
   ]
  },
  {
   "cell_type": "markdown",
   "id": "9b6e319b",
   "metadata": {},
   "source": [
    "# <span style='color: lightblue'> **Calculations** </span>"
   ]
  },
  {
   "cell_type": "markdown",
   "id": "bf2952cd",
   "metadata": {},
   "source": [
    "We're running exact diagonalization and NQS with explicit integrator and regularization, for various values of the quench strength."
   ]
  },
  {
   "cell_type": "code",
   "execution_count": null,
   "id": "eaf1b8ab",
   "metadata": {},
   "outputs": [],
   "source": [
    "# generate them\n",
    "deltas = [-2.1, -2., -1.9, -1, -0.5, -0.1, 0.1, 1., 2.]\n",
    "eds = [] # stores ED runs\n",
    "nqs = [] # stores NQS runs\n",
    "\n",
    "for d in deltas:\n",
    "    # declare them\n",
    "    edrun = exact.ED(lat, steps, endtime, perturbator=lambda t: d)\n",
    "    nqsrun = dynamics.evolution(lat, alpha, initial_state.copy(),\n",
    "                                steps, endtime, perturbator = lambda t: d,\n",
    "                                formulation = 'regularization')\n",
    "\n",
    "    # run them\n",
    "    edrun.run()\n",
    "    nqsrun.run()\n",
    "\n",
    "    # process them\n",
    "    nqsrun.process_links(links)\n",
    "\n",
    "    # append them\n",
    "    eds.append(edrun)\n",
    "    nqs.append(nqsrun)\n"
   ]
  },
  {
   "cell_type": "markdown",
   "id": "76ce1576",
   "metadata": {},
   "source": [
    "# <span style='color: lightgreen'> **Plots** </span>"
   ]
  },
  {
   "cell_type": "code",
   "execution_count": null,
   "id": "f077bfc2",
   "metadata": {},
   "outputs": [],
   "source": [
    "# plot settings\n",
    "fig, axes = plt.subplots(3,3, figsize=(12, 6), sharex = True)\n",
    "plt.subplots_adjust(hspace=0.125, wspace = 0.125)\n",
    "\n",
    "\n",
    "# plot\n",
    "for (i,ax) in enumerate(axes.flatten()):\n",
    "    ax.plot(nqs[i].times, nqs[i].correlations[(0,2)], lw = 4, color = 'red', alpha = 0.8, label = 'NQS explicit')\n",
    "    ax.plot(eds[i].times, eds[i].observables['correlations'][(0,2)], lw = 3, color = '#291F1E', ls = (0,(5,1)), alpha = 0.5, label = 'exact')\n",
    "    ax.fill_between(eds[i].times, eds[i].observables['correlations'][(0,2)],nqs[i].correlations[(0,2)],\n",
    "                    interpolate=True, color='#D4D2D5', alpha=0.5)\n",
    "\n",
    "# x limits\n",
    "for ax in axes.flatten():\n",
    "    ax.set_xlim([0,1.5])\n",
    "\n",
    "# y sharing\n",
    "for row in axes:\n",
    "    for ax in row[1:]:\n",
    "        ax.sharey(row[0])\n",
    "        ax.tick_params(labelleft=False)\n",
    "\n",
    "# y limits\n",
    "axes[0, 0].set_ylim(-0.55, 0.05)\n",
    "axes[1, 0].set_ylim(-0.55, 0.3)\n",
    "axes[2, 0].set_ylim(-0.8, -0.45)\n",
    "axes[2, 0].set_yticks([-0.7, -0.5])\n",
    "\n",
    "# grid lines\n",
    "for ax in axes.flatten():\n",
    "    ax.grid(True, which='both', linestyle='--', color='gray', alpha=0.3)\n",
    "\n",
    "# x ticks\n",
    "for ax in axes.flatten():\n",
    "    ax.set_xticks([0, 0.5, 1, 1.5])\n",
    "    ax.set_xticklabels([\"0\", \"0.5\", \"1\", \"1.5\"])\n",
    "\n",
    "# x labels\n",
    "axes[2,0].set_xlabel(\"time $(1/J_0)$\")\n",
    "axes[2,1].set_xlabel(\"time $(1/J_0)$\")\n",
    "axes[2,2].set_xlabel(\"time $(1/J_0)$\")\n",
    "\n",
    "# y label\n",
    "axes[1,0].set_ylabel(r\"correlation function $\\left< S_i S_{i+1} \\right>$\")\n",
    "\n",
    "# legend\n",
    "axes[0, 1].legend(loc='upper center', bbox_to_anchor=(0.5, 1.5), ncol=2, frameon = False)\n",
    "\n",
    "# saving\n",
    "plt.savefig(\"nqs_deltas.svg\", format=\"svg\", bbox_inches = \"tight\")"
   ]
  },
  {
   "cell_type": "markdown",
   "id": "7f26ef51",
   "metadata": {},
   "source": [
    "# <span style='color: pink'> **Saving** </span>"
   ]
  },
  {
   "cell_type": "code",
   "execution_count": null,
   "id": "647896b5",
   "metadata": {},
   "outputs": [],
   "source": [
    "# times array, same for all data\n",
    "times = eds[0].times"
   ]
  },
  {
   "cell_type": "code",
   "execution_count": null,
   "id": "0bd85caa",
   "metadata": {},
   "outputs": [],
   "source": [
    "# set header\n",
    "head = \"time, ED spin correlation, NQS spin correlation\"\n",
    "\n",
    "# loop and save\n",
    "for (i,d) in enumerate(deltas):\n",
    "    filename = \"data/correlation_delta_{:}.txt\".format(d)\n",
    "    np.savetxt(filename, np.c_[times, eds[i].observables['correlations'][(0,2)], nqs[i].correlations[(0,2)]], header = head, delimiter=\", \")\n"
   ]
  }
 ],
 "metadata": {
  "kernelspec": {
   "display_name": ".venv",
   "language": "python",
   "name": "python3"
  },
  "language_info": {
   "codemirror_mode": {
    "name": "ipython",
    "version": 3
   },
   "file_extension": ".py",
   "mimetype": "text/x-python",
   "name": "python",
   "nbconvert_exporter": "python",
   "pygments_lexer": "ipython3",
   "version": "3.10.11"
  }
 },
 "nbformat": 4,
 "nbformat_minor": 5
}
